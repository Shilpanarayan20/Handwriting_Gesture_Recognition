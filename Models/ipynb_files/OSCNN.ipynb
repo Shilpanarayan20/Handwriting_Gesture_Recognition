{
  "cells": [
    {
      "cell_type": "code",
      "source": [
        "from google.colab import drive\n",
        "\n",
        "drive.mount(\"/content/drive\")"
      ],
      "metadata": {
        "colab": {
          "base_uri": "https://localhost:8080/"
        },
        "id": "qRgel7ZeO0JG",
        "outputId": "0b5d059e-5de1-40b0-ce51-be6770943321"
      },
      "execution_count": null,
      "outputs": [
        {
          "output_type": "stream",
          "name": "stdout",
          "text": [
            "Mounted at /content/drive\n"
          ]
        }
      ]
    },
    {
      "cell_type": "code",
      "execution_count": 2,
      "metadata": {
        "id": "TuG_50ZChdQA",
        "colab": {
          "base_uri": "https://localhost:8080/"
        },
        "outputId": "e24d9f04-f46f-4fe5-a8a0-fc0248180189"
      },
      "outputs": [
        {
          "output_type": "execute_result",
          "data": {
            "text/plain": [
              "TensorShape([8463, 2])"
            ]
          },
          "metadata": {},
          "execution_count": 2
        }
      ],
      "source": [
        "import matplotlib.pyplot as plt\n",
        "import pandas as pd\n",
        "from keras import utils as np_utils \n",
        "import numpy as np\n",
        "import tensorflow as tf\n",
        "import numpy as np\n",
        "import matplotlib.pyplot as plt\n",
        "from keras.models import Sequential\n",
        "from keras.layers import Dense\n",
        "from keras.layers import LSTM\n",
        "from keras.layers import Dropout\n",
        "from keras.layers import Bidirectional\n",
        "from sklearn.model_selection import train_test_split\n",
        "from sklearn.metrics import classification_report, confusion_matrix\n",
        "import pandas as pd\n",
        "import seaborn as sns\n",
        "from keras import utils as np_utils\n",
        "import tensorflow as tf\n",
        "from tensorflow import keras\n",
        "\n",
        "#Importing training set\n",
        "\n",
        "X = np.load(\"/content/(N_W)X_Data.npy\",allow_pickle=True)\n",
        "Y = np.load(\"/content/(N_W)Y_Data.npy\",allow_pickle=True)\n",
        "\n",
        "X_train, X_test, y_train , y_test  = train_test_split(X, Y, test_size = 0.30, random_state = 150, shuffle=True)\n",
        "\n",
        "X_train = np.asarray(X_train).astype('float32')\n",
        "X_test = np.asarray(X_test).astype('float32')\n",
        "\n",
        "X_train = X_train.reshape((X_train.shape[0], 196, 1))\n",
        "X_test = X_test.reshape((X_test.shape[0], 196,1))\n",
        "\n",
        "#Convert data into 3d tensor\n",
        "#X_train = np.reshape(X_train,(1721,132,1))\n",
        "#X_test = np.reshape(X_test,(574,132,1))\n",
        "\n",
        "\n",
        "\n",
        "\n",
        "X_train = tf.cast(X_train,dtype=tf.float32)\n",
        "X_test = tf.cast(X_test,dtype=tf.float32)\n",
        "y_train = y_train \n",
        "y_test = y_test\n",
        "\n",
        "y_train = tf.keras.utils.to_categorical(y_train)\n",
        "y_test = tf.keras.utils.to_categorical(y_test)\n",
        "\n",
        "y_train=tf.cast(y_train,dtype=tf.float32)\n",
        "y_test=tf.cast(y_test,dtype=tf.float32)\n",
        "\n",
        "\n",
        "y_train.shape"
      ]
    },
    {
      "cell_type": "code",
      "execution_count": 3,
      "metadata": {
        "id": "FCcImh6YHJZZ"
      },
      "outputs": [],
      "source": [
        "from keras.layers.pooling import AveragePooling1D\n",
        "#Importing convolutional layers\n",
        "from keras.models import Sequential\n",
        "from keras.layers import Convolution1D\n",
        "from keras.layers import MaxPooling1D\n",
        "from keras.layers import Flatten\n",
        "from keras.layers import Dense\n",
        "from keras.layers import Dropout\n",
        "import tensorflow as tf\n",
        "from tensorflow.keras.layers import BatchNormalization\n",
        "\n",
        "\n",
        "\n",
        "#Initialising the CNN\n",
        "classifier = Sequential()\n",
        "\n",
        "#Input shape must be explicitly defined, DO NOT USE (None,shape)!!!\n",
        "\n",
        "classifier.add(Convolution1D(filters=8, kernel_size=1, activation=\"relu\")) \n",
        "classifier.add(BatchNormalization())\n",
        "\n",
        "classifier.add(Convolution1D(filters=16, kernel_size=2, activation=\"relu\")) \n",
        "classifier.add(BatchNormalization())\n",
        "\n",
        "classifier.add(Convolution1D(filters=16, kernel_size=3,activation=\"relu\"))\n",
        "classifier.add(BatchNormalization())\n",
        "\n",
        "classifier.add(Convolution1D(filters=32, kernel_size=3,activation=\"relu\"))\n",
        "classifier.add(BatchNormalization())\n",
        "\n",
        "\n",
        "classifier.add(Convolution1D(filters=32, kernel_size=3,activation=\"relu\"))\n",
        "classifier.add(BatchNormalization())\n",
        "\n",
        "#Flattening\n",
        "classifier.add(AveragePooling1D())\n",
        "classifier.add(Flatten())\n",
        "\n",
        "\n",
        "#Full Connection\n",
        "classifier.add(Dropout(0.3))\n",
        "classifier.add(Dense(2, activation = 'softmax'))\n"
      ]
    },
    {
      "cell_type": "code",
      "execution_count": 5,
      "metadata": {
        "colab": {
          "base_uri": "https://localhost:8080/"
        },
        "id": "8mRJnKkrUV1I",
        "outputId": "60ce5685-5962-4cbb-845e-49dcb6277d30"
      },
      "outputs": [
        {
          "output_type": "stream",
          "name": "stdout",
          "text": [
            "Epoch 1/150\n"
          ]
        },
        {
          "output_type": "stream",
          "name": "stderr",
          "text": [
            "WARNING:tensorflow:5 out of the last 5 calls to <function _BaseOptimizer._update_step_xla at 0x7f9bdec82280> triggered tf.function retracing. Tracing is expensive and the excessive number of tracings could be due to (1) creating @tf.function repeatedly in a loop, (2) passing tensors with different shapes, (3) passing Python objects instead of tensors. For (1), please define your @tf.function outside of the loop. For (2), @tf.function has reduce_retracing=True option that can avoid unnecessary retracing. For (3), please refer to https://www.tensorflow.org/guide/function#controlling_retracing and https://www.tensorflow.org/api_docs/python/tf/function for  more details.\n",
            "WARNING:tensorflow:6 out of the last 6 calls to <function _BaseOptimizer._update_step_xla at 0x7f9bdec82280> triggered tf.function retracing. Tracing is expensive and the excessive number of tracings could be due to (1) creating @tf.function repeatedly in a loop, (2) passing tensors with different shapes, (3) passing Python objects instead of tensors. For (1), please define your @tf.function outside of the loop. For (2), @tf.function has reduce_retracing=True option that can avoid unnecessary retracing. For (3), please refer to https://www.tensorflow.org/guide/function#controlling_retracing and https://www.tensorflow.org/api_docs/python/tf/function for  more details.\n"
          ]
        },
        {
          "output_type": "stream",
          "name": "stdout",
          "text": [
            "133/133 [==============================] - 25s 89ms/step - loss: 0.4480 - accuracy: 0.8204\n",
            "Epoch 2/150\n",
            "133/133 [==============================] - 11s 85ms/step - loss: 0.3656 - accuracy: 0.8517\n",
            "Epoch 3/150\n",
            "133/133 [==============================] - 11s 86ms/step - loss: 0.3221 - accuracy: 0.8688\n",
            "Epoch 4/150\n",
            "133/133 [==============================] - 11s 85ms/step - loss: 0.2855 - accuracy: 0.8827\n",
            "Epoch 5/150\n",
            "133/133 [==============================] - 11s 85ms/step - loss: 0.2675 - accuracy: 0.8911\n",
            "Epoch 6/150\n",
            "133/133 [==============================] - 11s 85ms/step - loss: 0.2468 - accuracy: 0.8999\n",
            "Epoch 7/150\n",
            "133/133 [==============================] - 11s 86ms/step - loss: 0.2337 - accuracy: 0.9030\n",
            "Epoch 8/150\n",
            "133/133 [==============================] - 11s 86ms/step - loss: 0.2266 - accuracy: 0.9100\n",
            "Epoch 9/150\n",
            "133/133 [==============================] - 11s 86ms/step - loss: 0.2109 - accuracy: 0.9169\n",
            "Epoch 10/150\n",
            "133/133 [==============================] - 11s 85ms/step - loss: 0.2068 - accuracy: 0.9165\n",
            "Epoch 11/150\n",
            "133/133 [==============================] - 11s 83ms/step - loss: 0.1993 - accuracy: 0.9173\n",
            "Epoch 12/150\n",
            "133/133 [==============================] - 11s 85ms/step - loss: 0.1972 - accuracy: 0.9206\n",
            "Epoch 13/150\n",
            "133/133 [==============================] - 11s 85ms/step - loss: 0.1886 - accuracy: 0.9256\n",
            "Epoch 14/150\n",
            "133/133 [==============================] - 11s 85ms/step - loss: 0.1900 - accuracy: 0.9246\n",
            "Epoch 15/150\n",
            "133/133 [==============================] - 11s 86ms/step - loss: 0.1896 - accuracy: 0.9237\n",
            "Epoch 16/150\n",
            "133/133 [==============================] - 11s 86ms/step - loss: 0.1763 - accuracy: 0.9299\n",
            "Epoch 17/150\n",
            "133/133 [==============================] - 11s 86ms/step - loss: 0.1806 - accuracy: 0.9278\n",
            "Epoch 18/150\n",
            "133/133 [==============================] - 11s 86ms/step - loss: 0.1765 - accuracy: 0.9304\n",
            "Epoch 19/150\n",
            "133/133 [==============================] - 11s 85ms/step - loss: 0.1675 - accuracy: 0.9324\n",
            "Epoch 20/150\n",
            "133/133 [==============================] - 11s 85ms/step - loss: 0.1625 - accuracy: 0.9364\n",
            "Epoch 21/150\n",
            "133/133 [==============================] - 11s 86ms/step - loss: 0.1610 - accuracy: 0.9390\n",
            "Epoch 22/150\n",
            "133/133 [==============================] - 11s 86ms/step - loss: 0.1580 - accuracy: 0.9376\n",
            "Epoch 23/150\n",
            "133/133 [==============================] - 11s 84ms/step - loss: 0.1536 - accuracy: 0.9376\n",
            "Epoch 24/150\n",
            "133/133 [==============================] - 11s 83ms/step - loss: 0.1556 - accuracy: 0.9374\n",
            "Epoch 25/150\n",
            "133/133 [==============================] - 11s 85ms/step - loss: 0.1562 - accuracy: 0.9380\n",
            "Epoch 26/150\n",
            "133/133 [==============================] - 11s 86ms/step - loss: 0.1515 - accuracy: 0.9388\n",
            "Epoch 27/150\n",
            "133/133 [==============================] - 11s 84ms/step - loss: 0.1464 - accuracy: 0.9433\n",
            "Epoch 28/150\n",
            "133/133 [==============================] - 11s 86ms/step - loss: 0.1458 - accuracy: 0.9443\n",
            "Epoch 29/150\n",
            "133/133 [==============================] - 11s 85ms/step - loss: 0.1388 - accuracy: 0.9453\n",
            "Epoch 30/150\n",
            "133/133 [==============================] - 11s 85ms/step - loss: 0.1378 - accuracy: 0.9469\n",
            "Epoch 31/150\n",
            "133/133 [==============================] - 11s 85ms/step - loss: 0.1397 - accuracy: 0.9423\n",
            "Epoch 32/150\n",
            "133/133 [==============================] - 11s 85ms/step - loss: 0.1341 - accuracy: 0.9486\n",
            "Epoch 33/150\n",
            "133/133 [==============================] - 11s 85ms/step - loss: 0.1284 - accuracy: 0.9491\n",
            "Epoch 34/150\n",
            "133/133 [==============================] - 11s 86ms/step - loss: 0.1282 - accuracy: 0.9506\n",
            "Epoch 35/150\n",
            "133/133 [==============================] - 11s 85ms/step - loss: 0.1264 - accuracy: 0.9505\n",
            "Epoch 36/150\n",
            "133/133 [==============================] - 11s 83ms/step - loss: 0.1221 - accuracy: 0.9529\n",
            "Epoch 37/150\n",
            "133/133 [==============================] - 11s 83ms/step - loss: 0.1266 - accuracy: 0.9501\n",
            "Epoch 38/150\n",
            "133/133 [==============================] - 11s 85ms/step - loss: 0.1191 - accuracy: 0.9525\n",
            "Epoch 39/150\n",
            "133/133 [==============================] - 12s 87ms/step - loss: 0.1185 - accuracy: 0.9553\n",
            "Epoch 40/150\n",
            "133/133 [==============================] - 11s 85ms/step - loss: 0.1220 - accuracy: 0.9514\n",
            "Epoch 41/150\n",
            "133/133 [==============================] - 11s 86ms/step - loss: 0.1215 - accuracy: 0.9511\n",
            "Epoch 42/150\n",
            "133/133 [==============================] - 11s 86ms/step - loss: 0.1162 - accuracy: 0.9519\n",
            "Epoch 43/150\n",
            "133/133 [==============================] - 12s 87ms/step - loss: 0.1152 - accuracy: 0.9531\n",
            "Epoch 44/150\n",
            "133/133 [==============================] - 12s 87ms/step - loss: 0.1108 - accuracy: 0.9550\n",
            "Epoch 45/150\n",
            "133/133 [==============================] - 11s 86ms/step - loss: 0.1162 - accuracy: 0.9553\n",
            "Epoch 46/150\n",
            "133/133 [==============================] - 11s 86ms/step - loss: 0.1161 - accuracy: 0.9547\n",
            "Epoch 47/150\n",
            "133/133 [==============================] - 11s 85ms/step - loss: 0.1118 - accuracy: 0.9560\n",
            "Epoch 48/150\n",
            "133/133 [==============================] - 11s 84ms/step - loss: 0.1052 - accuracy: 0.9596\n",
            "Epoch 49/150\n",
            "133/133 [==============================] - 11s 83ms/step - loss: 0.1029 - accuracy: 0.9609\n",
            "Epoch 50/150\n",
            "133/133 [==============================] - 11s 83ms/step - loss: 0.1048 - accuracy: 0.9572\n",
            "Epoch 51/150\n",
            "133/133 [==============================] - 11s 86ms/step - loss: 0.1017 - accuracy: 0.9611\n",
            "Epoch 52/150\n",
            "133/133 [==============================] - 11s 86ms/step - loss: 0.1018 - accuracy: 0.9589\n",
            "Epoch 53/150\n",
            "133/133 [==============================] - 11s 86ms/step - loss: 0.1015 - accuracy: 0.9634\n",
            "Epoch 54/150\n",
            "133/133 [==============================] - 11s 86ms/step - loss: 0.1003 - accuracy: 0.9592\n",
            "Epoch 55/150\n",
            "133/133 [==============================] - 11s 86ms/step - loss: 0.1076 - accuracy: 0.9578\n",
            "Epoch 56/150\n",
            "133/133 [==============================] - 12s 87ms/step - loss: 0.0984 - accuracy: 0.9615\n",
            "Epoch 57/150\n",
            "133/133 [==============================] - 11s 86ms/step - loss: 0.0989 - accuracy: 0.9610\n",
            "Epoch 58/150\n",
            "133/133 [==============================] - 11s 85ms/step - loss: 0.0991 - accuracy: 0.9604\n",
            "Epoch 59/150\n",
            "133/133 [==============================] - 11s 86ms/step - loss: 0.1035 - accuracy: 0.9584\n",
            "Epoch 60/150\n",
            "133/133 [==============================] - 11s 86ms/step - loss: 0.0984 - accuracy: 0.9610\n",
            "Epoch 61/150\n",
            "133/133 [==============================] - 12s 87ms/step - loss: 0.1013 - accuracy: 0.9603\n",
            "Epoch 62/150\n",
            "133/133 [==============================] - 11s 83ms/step - loss: 0.0933 - accuracy: 0.9630\n",
            "Epoch 63/150\n",
            "133/133 [==============================] - 11s 83ms/step - loss: 0.0947 - accuracy: 0.9633\n",
            "Epoch 64/150\n",
            "133/133 [==============================] - 12s 87ms/step - loss: 0.0961 - accuracy: 0.9607\n",
            "Epoch 65/150\n",
            "133/133 [==============================] - 12s 87ms/step - loss: 0.0882 - accuracy: 0.9650\n",
            "Epoch 66/150\n",
            "133/133 [==============================] - 12s 87ms/step - loss: 0.0943 - accuracy: 0.9628\n",
            "Epoch 67/150\n",
            "133/133 [==============================] - 12s 87ms/step - loss: 0.0885 - accuracy: 0.9644\n",
            "Epoch 68/150\n",
            "133/133 [==============================] - 11s 86ms/step - loss: 0.0923 - accuracy: 0.9654\n",
            "Epoch 69/150\n",
            "133/133 [==============================] - 11s 86ms/step - loss: 0.0876 - accuracy: 0.9668\n",
            "Epoch 70/150\n",
            "133/133 [==============================] - 11s 86ms/step - loss: 0.0891 - accuracy: 0.9651\n",
            "Epoch 71/150\n",
            "133/133 [==============================] - 12s 87ms/step - loss: 0.0873 - accuracy: 0.9667\n",
            "Epoch 72/150\n",
            "133/133 [==============================] - 11s 85ms/step - loss: 0.0832 - accuracy: 0.9673\n",
            "Epoch 73/150\n",
            "133/133 [==============================] - 12s 87ms/step - loss: 0.0819 - accuracy: 0.9689\n",
            "Epoch 74/150\n",
            "133/133 [==============================] - 12s 88ms/step - loss: 0.0876 - accuracy: 0.9656\n",
            "Epoch 75/150\n",
            "133/133 [==============================] - 12s 89ms/step - loss: 0.0826 - accuracy: 0.9680\n",
            "Epoch 76/150\n",
            "133/133 [==============================] - 12s 88ms/step - loss: 0.0895 - accuracy: 0.9648\n",
            "Epoch 77/150\n",
            "133/133 [==============================] - 11s 86ms/step - loss: 0.0890 - accuracy: 0.9649\n",
            "Epoch 78/150\n",
            "133/133 [==============================] - 11s 85ms/step - loss: 0.0815 - accuracy: 0.9679\n",
            "Epoch 79/150\n",
            "133/133 [==============================] - 11s 85ms/step - loss: 0.0860 - accuracy: 0.9674\n",
            "Epoch 80/150\n",
            "133/133 [==============================] - 11s 86ms/step - loss: 0.0758 - accuracy: 0.9692\n",
            "Epoch 81/150\n",
            "133/133 [==============================] - 11s 86ms/step - loss: 0.0735 - accuracy: 0.9731\n",
            "Epoch 82/150\n",
            "133/133 [==============================] - 11s 85ms/step - loss: 0.0829 - accuracy: 0.9672\n",
            "Epoch 83/150\n",
            "133/133 [==============================] - 11s 86ms/step - loss: 0.0852 - accuracy: 0.9670\n",
            "Epoch 84/150\n",
            "133/133 [==============================] - 11s 86ms/step - loss: 0.0751 - accuracy: 0.9707\n",
            "Epoch 85/150\n",
            "133/133 [==============================] - 11s 85ms/step - loss: 0.0707 - accuracy: 0.9726\n",
            "Epoch 86/150\n",
            "133/133 [==============================] - 11s 85ms/step - loss: 0.0699 - accuracy: 0.9722\n",
            "Epoch 87/150\n",
            "133/133 [==============================] - 11s 86ms/step - loss: 0.0708 - accuracy: 0.9732\n",
            "Epoch 88/150\n",
            "133/133 [==============================] - 11s 86ms/step - loss: 0.0811 - accuracy: 0.9685\n",
            "Epoch 89/150\n",
            "133/133 [==============================] - 11s 85ms/step - loss: 0.0801 - accuracy: 0.9701\n",
            "Epoch 90/150\n",
            "133/133 [==============================] - 11s 83ms/step - loss: 0.0784 - accuracy: 0.9688\n",
            "Epoch 91/150\n",
            "133/133 [==============================] - 11s 84ms/step - loss: 0.0746 - accuracy: 0.9709\n",
            "Epoch 92/150\n",
            "133/133 [==============================] - 11s 86ms/step - loss: 0.0740 - accuracy: 0.9724\n",
            "Epoch 93/150\n",
            "133/133 [==============================] - 12s 88ms/step - loss: 0.0708 - accuracy: 0.9721\n",
            "Epoch 94/150\n",
            "133/133 [==============================] - 12s 89ms/step - loss: 0.0764 - accuracy: 0.9718\n",
            "Epoch 95/150\n",
            "133/133 [==============================] - 12s 88ms/step - loss: 0.0723 - accuracy: 0.9726\n",
            "Epoch 96/150\n",
            "133/133 [==============================] - 12s 87ms/step - loss: 0.0769 - accuracy: 0.9707\n",
            "Epoch 97/150\n",
            "133/133 [==============================] - 12s 88ms/step - loss: 0.0743 - accuracy: 0.9724\n",
            "Epoch 98/150\n",
            "133/133 [==============================] - 12s 88ms/step - loss: 0.0669 - accuracy: 0.9753\n",
            "Epoch 99/150\n",
            "133/133 [==============================] - 12s 88ms/step - loss: 0.0743 - accuracy: 0.9708\n",
            "Epoch 100/150\n",
            "133/133 [==============================] - 12s 88ms/step - loss: 0.0740 - accuracy: 0.9720\n",
            "Epoch 101/150\n",
            "133/133 [==============================] - 12s 87ms/step - loss: 0.0736 - accuracy: 0.9715\n",
            "Epoch 102/150\n",
            "133/133 [==============================] - 12s 87ms/step - loss: 0.0691 - accuracy: 0.9715\n",
            "Epoch 103/150\n",
            "133/133 [==============================] - 11s 86ms/step - loss: 0.0722 - accuracy: 0.9718\n",
            "Epoch 104/150\n",
            "133/133 [==============================] - 11s 85ms/step - loss: 0.0777 - accuracy: 0.9690\n",
            "Epoch 105/150\n",
            "133/133 [==============================] - 11s 84ms/step - loss: 0.0706 - accuracy: 0.9721\n",
            "Epoch 106/150\n",
            "133/133 [==============================] - 11s 83ms/step - loss: 0.0663 - accuracy: 0.9746\n",
            "Epoch 107/150\n",
            "133/133 [==============================] - 11s 84ms/step - loss: 0.0727 - accuracy: 0.9726\n",
            "Epoch 108/150\n",
            "133/133 [==============================] - 11s 86ms/step - loss: 0.0652 - accuracy: 0.9765\n",
            "Epoch 109/150\n",
            "133/133 [==============================] - 11s 85ms/step - loss: 0.0667 - accuracy: 0.9741\n",
            "Epoch 110/150\n",
            "133/133 [==============================] - 11s 85ms/step - loss: 0.0649 - accuracy: 0.9762\n",
            "Epoch 111/150\n",
            "133/133 [==============================] - 11s 85ms/step - loss: 0.0667 - accuracy: 0.9744\n",
            "Epoch 112/150\n",
            "133/133 [==============================] - 11s 85ms/step - loss: 0.0670 - accuracy: 0.9747\n",
            "Epoch 113/150\n",
            "133/133 [==============================] - 11s 86ms/step - loss: 0.0653 - accuracy: 0.9739\n",
            "Epoch 114/150\n",
            "133/133 [==============================] - 11s 85ms/step - loss: 0.0704 - accuracy: 0.9722\n",
            "Epoch 115/150\n",
            "133/133 [==============================] - 11s 85ms/step - loss: 0.0645 - accuracy: 0.9751\n",
            "Epoch 116/150\n",
            "133/133 [==============================] - 11s 86ms/step - loss: 0.0584 - accuracy: 0.9774\n",
            "Epoch 117/150\n",
            "133/133 [==============================] - 11s 84ms/step - loss: 0.0575 - accuracy: 0.9785\n",
            "Epoch 118/150\n",
            "133/133 [==============================] - 11s 82ms/step - loss: 0.0621 - accuracy: 0.9759\n",
            "Epoch 119/150\n",
            "133/133 [==============================] - 11s 85ms/step - loss: 0.0632 - accuracy: 0.9774\n",
            "Epoch 120/150\n",
            "133/133 [==============================] - 11s 85ms/step - loss: 0.0592 - accuracy: 0.9766\n",
            "Epoch 121/150\n",
            "133/133 [==============================] - 12s 87ms/step - loss: 0.0632 - accuracy: 0.9761\n",
            "Epoch 122/150\n",
            "133/133 [==============================] - 11s 86ms/step - loss: 0.0569 - accuracy: 0.9777\n",
            "Epoch 123/150\n",
            "133/133 [==============================] - 11s 85ms/step - loss: 0.0641 - accuracy: 0.9747\n",
            "Epoch 124/150\n",
            "133/133 [==============================] - 11s 86ms/step - loss: 0.0676 - accuracy: 0.9729\n",
            "Epoch 125/150\n",
            "133/133 [==============================] - 11s 85ms/step - loss: 0.0612 - accuracy: 0.9748\n",
            "Epoch 126/150\n",
            "133/133 [==============================] - 11s 85ms/step - loss: 0.0629 - accuracy: 0.9761\n",
            "Epoch 127/150\n",
            "133/133 [==============================] - 11s 85ms/step - loss: 0.0612 - accuracy: 0.9757\n",
            "Epoch 128/150\n",
            "133/133 [==============================] - 11s 86ms/step - loss: 0.0650 - accuracy: 0.9752\n",
            "Epoch 129/150\n",
            "133/133 [==============================] - 11s 84ms/step - loss: 0.0693 - accuracy: 0.9732\n",
            "Epoch 130/150\n",
            "133/133 [==============================] - 11s 83ms/step - loss: 0.0590 - accuracy: 0.9779\n",
            "Epoch 131/150\n",
            "133/133 [==============================] - 11s 85ms/step - loss: 0.0647 - accuracy: 0.9744\n",
            "Epoch 132/150\n",
            "133/133 [==============================] - 11s 85ms/step - loss: 0.0658 - accuracy: 0.9740\n",
            "Epoch 133/150\n",
            "133/133 [==============================] - 15s 114ms/step - loss: 0.0592 - accuracy: 0.9765\n",
            "Epoch 134/150\n",
            "133/133 [==============================] - 11s 84ms/step - loss: 0.0605 - accuracy: 0.9757\n",
            "Epoch 135/150\n",
            "133/133 [==============================] - 11s 85ms/step - loss: 0.0649 - accuracy: 0.9766\n",
            "Epoch 136/150\n",
            "133/133 [==============================] - 11s 85ms/step - loss: 0.0543 - accuracy: 0.9796\n",
            "Epoch 137/150\n",
            "133/133 [==============================] - 11s 86ms/step - loss: 0.0567 - accuracy: 0.9770\n",
            "Epoch 138/150\n",
            "133/133 [==============================] - 11s 86ms/step - loss: 0.0577 - accuracy: 0.9794\n",
            "Epoch 139/150\n",
            "133/133 [==============================] - 11s 86ms/step - loss: 0.0550 - accuracy: 0.9781\n",
            "Epoch 140/150\n",
            "133/133 [==============================] - 11s 86ms/step - loss: 0.0602 - accuracy: 0.9779\n",
            "Epoch 141/150\n",
            "133/133 [==============================] - 11s 85ms/step - loss: 0.0538 - accuracy: 0.9801\n",
            "Epoch 142/150\n",
            "133/133 [==============================] - 11s 85ms/step - loss: 0.0589 - accuracy: 0.9751\n",
            "Epoch 143/150\n",
            "133/133 [==============================] - 11s 85ms/step - loss: 0.0570 - accuracy: 0.9793\n",
            "Epoch 144/150\n",
            "133/133 [==============================] - 11s 86ms/step - loss: 0.0649 - accuracy: 0.9746\n",
            "Epoch 145/150\n",
            "133/133 [==============================] - 11s 83ms/step - loss: 0.0594 - accuracy: 0.9790\n",
            "Epoch 146/150\n",
            "133/133 [==============================] - 11s 84ms/step - loss: 0.0546 - accuracy: 0.9771\n",
            "Epoch 147/150\n",
            "133/133 [==============================] - 11s 85ms/step - loss: 0.0544 - accuracy: 0.9794\n",
            "Epoch 148/150\n",
            "133/133 [==============================] - 12s 88ms/step - loss: 0.0569 - accuracy: 0.9791\n",
            "Epoch 149/150\n",
            "133/133 [==============================] - 11s 86ms/step - loss: 0.0542 - accuracy: 0.9797\n",
            "Epoch 150/150\n",
            "133/133 [==============================] - 11s 85ms/step - loss: 0.0531 - accuracy: 0.9797\n"
          ]
        },
        {
          "output_type": "execute_result",
          "data": {
            "text/plain": [
              "<keras.callbacks.History at 0x7f9bded66790>"
            ]
          },
          "metadata": {},
          "execution_count": 5
        }
      ],
      "source": [
        "classifier.compile(loss = tf.keras.losses.BinaryCrossentropy(), run_eagerly=True, optimizer = tf.keras.optimizers.Adam(learning_rate=0.001), metrics=['accuracy'])\n",
        "# fit network\n",
        "classifier.fit(X_train, y_train, epochs=150, batch_size=64)\n"
      ]
    },
    {
      "cell_type": "code",
      "execution_count": 6,
      "metadata": {
        "colab": {
          "base_uri": "https://localhost:8080/"
        },
        "id": "v5dcb8lLX_pG",
        "outputId": "001ff57f-6219-4217-cad1-268412dacd0d"
      },
      "outputs": [
        {
          "output_type": "stream",
          "name": "stdout",
          "text": [
            "114/114 [==============================] - 3s 23ms/step - loss: 0.3846 - accuracy: 0.9107\n"
          ]
        },
        {
          "output_type": "execute_result",
          "data": {
            "text/plain": [
              "[0.3846243619918823, 0.9106699824333191]"
            ]
          },
          "metadata": {},
          "execution_count": 6
        }
      ],
      "source": [
        "classifier.evaluate(X_test, y_test)"
      ]
    },
    {
      "cell_type": "code",
      "source": [
        "from sklearn.metrics import accuracy_score\n",
        "\n",
        "print(\"Accuracy Score = \", accuracy_score(YY_test, YY_predict))"
      ],
      "metadata": {
        "colab": {
          "base_uri": "https://localhost:8080/"
        },
        "id": "_w7TgF2npQar",
        "outputId": "996d6757-daef-4a0d-c879-5558a63cd1fb"
      },
      "execution_count": 11,
      "outputs": [
        {
          "output_type": "stream",
          "name": "stdout",
          "text": [
            "Accuracy Score =  0.9106699751861043\n"
          ]
        }
      ]
    },
    {
      "cell_type": "code",
      "execution_count": 7,
      "metadata": {
        "id": "Bb4pim0fOryR",
        "colab": {
          "base_uri": "https://localhost:8080/"
        },
        "outputId": "6af6526e-f946-4c63-a035-0cca3bbe580d"
      },
      "outputs": [
        {
          "output_type": "stream",
          "name": "stdout",
          "text": [
            "114/114 [==============================] - 2s 14ms/step\n"
          ]
        }
      ],
      "source": [
        "Predict = classifier.predict(X_test)"
      ]
    },
    {
      "cell_type": "code",
      "execution_count": 8,
      "metadata": {
        "id": "5d2Lzj20OryS"
      },
      "outputs": [],
      "source": [
        "YY = y_test.numpy()\n",
        "YY_test = np.argmax(YY,axis = 1)\n",
        "\n",
        "YY_predict = np.argmax(Predict,axis = 1)\n"
      ]
    },
    {
      "cell_type": "code",
      "execution_count": 9,
      "metadata": {
        "colab": {
          "base_uri": "https://localhost:8080/"
        },
        "id": "H9V-ggArOryS",
        "outputId": "ca3d93e2-9ffd-4b05-a638-7aca5b576abd"
      },
      "outputs": [
        {
          "output_type": "execute_result",
          "data": {
            "text/plain": [
              "array([0, 0, 0, ..., 0, 0, 1])"
            ]
          },
          "metadata": {},
          "execution_count": 9
        }
      ],
      "source": [
        "YY_predict"
      ]
    },
    {
      "cell_type": "code",
      "execution_count": 10,
      "metadata": {
        "colab": {
          "base_uri": "https://localhost:8080/"
        },
        "id": "6xjUNS2KOryS",
        "outputId": "58cd8cb9-9795-4b1f-ea68-fb36478a78a1"
      },
      "outputs": [
        {
          "output_type": "execute_result",
          "data": {
            "text/plain": [
              "array([[2300,  124],\n",
              "       [ 200, 1003]])"
            ]
          },
          "metadata": {},
          "execution_count": 10
        }
      ],
      "source": [
        "from sklearn.metrics import ConfusionMatrixDisplay, confusion_matrix\n",
        "cm = confusion_matrix(YY_test, YY_predict)\n",
        "\n",
        "cm"
      ]
    },
    {
      "cell_type": "code",
      "execution_count": 13,
      "metadata": {
        "id": "8ejj74NdOryS"
      },
      "outputs": [],
      "source": [
        "def print_confusion_matrix(confusion_matrix, class_names, figsize = (8,8),\n",
        "                           fontsize=14, normalize=True):\n",
        "     \n",
        "    if normalize:\n",
        "        confusion_matrix = confusion_matrix.astype('float') / confusion_matrix.sum(axis=1)[:, np.newaxis]\n",
        "        fmt = '.2f'\n",
        "    else:\n",
        "        fmt = 'd'\n",
        "\n",
        "    df_cm = pd.DataFrame(\n",
        "        confusion_matrix, index=class_names, columns=class_names,\n",
        "    )\n",
        "    fig = plt.figure(figsize=figsize)\n",
        "    try:\n",
        "        heatmap = sns.heatmap(df_cm, annot=True, fmt= fmt)\n",
        "    except ValueError:\n",
        "        raise ValueError(\"Confusion matrix values must be integers.\")\n",
        "    heatmap.yaxis.set_ticklabels(heatmap.yaxis.get_ticklabels(), rotation=0, ha='right', fontsize=fontsize)\n",
        "    heatmap.xaxis.set_ticklabels(heatmap.xaxis.get_ticklabels(), rotation=45, ha='right', fontsize=fontsize)\n",
        "    plt.ylabel('True label')\n",
        "    plt.xlabel('Predicted label')"
      ]
    },
    {
      "cell_type": "code",
      "execution_count": 14,
      "metadata": {
        "colab": {
          "base_uri": "https://localhost:8080/",
          "height": 553
        },
        "id": "h0vWSUr0OryT",
        "outputId": "9d8adfa8-0990-40cd-ee51-ed0d1e22d988",
        "scrolled": true
      },
      "outputs": [
        {
          "output_type": "display_data",
          "data": {
            "text/plain": [
              "<Figure size 576x576 with 2 Axes>"
            ],
            "image/png": "[encoded data removed]"
          },
          "metadata": {
            "needs_background": "light"
          }
        }
      ],
      "source": [
        "import seaborn as sns\n",
        "\n",
        "#class_names = ['0', '1', '2', '3', '4', '5', '6', '7', '8', '9', 'A',\n",
        " #                  'B', 'C', 'D', 'E', 'F', 'G', 'H', 'I', 'J', 'K', 'L',\n",
        "  #                 'M', 'N', 'O', 'P', 'Q', 'R', 'S', 'T', 'U', 'V', 'W',\n",
        "   #                'X', 'Y', 'Z']\n",
        "\n",
        "\n",
        "#class_names = ['0,O,o','1,I,i,l ','2,Z,z','3','4','5,S,s','6,G','7','8','9,a,g,q','A',\n",
        " #                  'B', 'C,c', 'D,P,p,b', 'E,e', 'F,f', 'H,h', 'J,j ', 'K,k', 'L',\n",
        "  #                 'M,m', 'N,n', 'Q','R','T,t', 'U,V,u,v', 'W,w','X,x', 'Y,y', 'd'] \n",
        "\n",
        "#class_names = ['0','1','2','3','4','5','6','7','8','9','A',\n",
        " #                'B', 'C', 'D', 'E', 'F', 'G', 'H', 'I', 'J', 'K', 'L',\n",
        "  #                'M', 'N', 'O', 'P', 'Q', 'R', 'S','T', 'U', 'V', 'W',\n",
        "   #               'X', 'Y', 'Z','a',\n",
        "    #             'b', 'c', 'd', 'e', 'f', 'g', 'h', 'i', 'j', 'k', 'l',\n",
        "     #             'm', 'n', 'o', 'p', 'q', 'r', 's', 't', 'u', 'v', 'w',\n",
        "      #            'x', 'y', 'z']\n",
        "\n",
        "class_names = ['Not Writing','Writing']                   \n",
        "print_confusion_matrix(cm, class_names)\n",
        "plt.savefig('Confusion_Matix_.png', dpi=300)"
      ]
    },
    {
      "cell_type": "code",
      "execution_count": 15,
      "metadata": {
        "id": "vHx9OK1Fps_N",
        "colab": {
          "base_uri": "https://localhost:8080/"
        },
        "outputId": "87aaff75-85de-4fbb-9a66-1c89f1200470"
      },
      "outputs": [
        {
          "output_type": "stream",
          "name": "stdout",
          "text": [
            "              precision    recall  f1-score   support\n",
            "\n",
            " Not Writing       0.92      0.95      0.93      2424\n",
            "     Writing       0.89      0.83      0.86      1203\n",
            "\n",
            "    accuracy                           0.91      3627\n",
            "   macro avg       0.90      0.89      0.90      3627\n",
            "weighted avg       0.91      0.91      0.91      3627\n",
            "\n"
          ]
        }
      ],
      "source": [
        "from sklearn.metrics import classification_report\n",
        "\n",
        "#report = classification_report(YY_test, YY_predict,target_names=['0', '1', '2', '3', '4', '5', '6', '7', '8', '9', 'A',\n",
        " #                  'B', 'C', 'D', 'E', 'F', 'G', 'H', 'I', 'J', 'K', 'L',\n",
        "  #                 'M', 'N', 'O', 'P', 'Q', 'R', 'S', 'T', 'U', 'V', 'W',\n",
        "   #                'X', 'Y', 'Z'])\n",
        "\n",
        "#report = classification_report(YY_test, YY_predict,target_names=['0,O,o','1,I,i,l ','2,Z,z','3','4','5,S,s','6,G','7','8','9,a,g,q','A',\n",
        " #                  'B', 'C,c', 'D,P,p,b', 'E,e', 'F,f', 'H,h', 'J,j ', 'K,k', 'L',\n",
        "  #                 'M,m', 'N,n', 'Q','R','T,t', 'U,V,u,v', 'W,w','X,x', 'Y,y', 'd']) \n",
        "\n",
        "#report = classification_report(YY_test, YY_predict,target_names= ['0','1','2','3','4','5','6','7','8','9','A',\n",
        " #                'B', 'C', 'D', 'E', 'F', 'G', 'H', 'I', 'J', 'K', 'L',\n",
        "  #               'M', 'N', 'O', 'P', 'Q', 'R', 'S','T', 'U', 'V', 'W',\n",
        "   #               'X', 'Y', 'Z','a',\n",
        "    #             'b', 'c', 'd', 'e', 'f', 'g', 'h', 'i', 'j', 'k', 'l',\n",
        "     #             'm', 'n', 'o', 'p', 'q', 'r', 's', 't', 'u', 'v', 'w',\n",
        "      #            'x', 'y', 'z']) \n",
        "\n",
        "report = classification_report(YY_test, YY_predict,target_names= ['Not Writing','Writing'])\n",
        "print(report)\n"
      ]
    },
    {
      "cell_type": "code",
      "source": [
        "%%capture cap --no-stderr\n",
        "print(report)"
      ],
      "metadata": {
        "id": "rz2VddWb3440"
      },
      "execution_count": null,
      "outputs": []
    },
    {
      "cell_type": "code",
      "source": [
        "with open('Classification_Report.txt', 'w') as f:\n",
        "    f.write(cap.stdout)"
      ],
      "metadata": {
        "id": "zbfheiTd35JM"
      },
      "execution_count": null,
      "outputs": []
    },
    {
      "cell_type": "code",
      "execution_count": 16,
      "metadata": {
        "id": "_Zmh35e-OryU",
        "colab": {
          "base_uri": "https://localhost:8080/"
        },
        "outputId": "0e80aef9-9ce3-4cf9-f3f9-aae2d0954ae6"
      },
      "outputs": [
        {
          "output_type": "stream",
          "name": "stdout",
          "text": [
            "Counter({True: 3303, False: 324})\n"
          ]
        }
      ],
      "source": [
        "from collections import Counter\n",
        "\n",
        "\n",
        "correct = [pred == true for pred, true in zip(YY_predict, YY_test)]\n",
        "correct = np.array(correct).flatten()\n",
        "print(Counter(correct))"
      ]
    },
    {
      "cell_type": "code",
      "execution_count": 17,
      "metadata": {
        "id": "EzkhhPBbOryU"
      },
      "outputs": [],
      "source": [
        "YY = np.array(y_test).flatten()\n",
        "classifiedIndexes = np.where(YY_test==YY_predict)[0]\n",
        "misclassifiedIndexes = np.where(YY_test!=YY_predict)[0]"
      ]
    },
    {
      "cell_type": "code",
      "source": [],
      "metadata": {
        "id": "LmS-FfHnvAL3"
      },
      "execution_count": null,
      "outputs": []
    }
  ],
  "metadata": {
    "accelerator": "GPU",
    "colab": {
      "provenance": []
    },
    "kernelspec": {
      "display_name": "Python 3",
      "language": "python",
      "name": "python3"
    },
    "language_info": {
      "codemirror_mode": {
        "name": "ipython",
        "version": 3
      },
      "file_extension": ".py",
      "mimetype": "text/x-python",
      "name": "python",
      "nbconvert_exporter": "python",
      "pygments_lexer": "ipython3",
      "version": "3.8.5"
    },
    "gpuClass": "standard"
  },
  "nbformat": 4,
  "nbformat_minor": 0
}