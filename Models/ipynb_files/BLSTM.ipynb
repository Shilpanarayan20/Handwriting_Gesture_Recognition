{
 "cells": [
  {
   "cell_type": "code",
   "execution_count": 1,
   "metadata": {
    "id": "yJ8PCOkNcdh-"
   },
   "outputs": [],
   "source": [
    "import numpy as np\n",
    "import matplotlib.pyplot as plt\n",
    "from keras.models import Sequential\n",
    "from keras.layers import Dense\n",
    "from keras.layers import LSTM\n",
    "from keras.layers import Dropout\n",
    "from keras.layers import Bidirectional\n",
    "from sklearn.model_selection import train_test_split\n",
    "from sklearn.metrics import classification_report, confusion_matrix\n",
    "import pandas as pd\n",
    "import seaborn as sns\n",
    "from keras import utils as np_utils\n",
    "import tensorflow as tf\n",
    "from tensorflow import keras"
   ]
  },
  {
   "cell_type": "code",
   "execution_count": 2,
   "metadata": {},
   "outputs": [
    {
     "name": "stdout",
     "output_type": "stream",
     "text": [
      "Requirement already satisfied: numpy==1.19.5 in /Users/shilpan/opt/anaconda3/lib/python3.8/site-packages (1.19.5)\n",
      "Note: you may need to restart the kernel to use updated packages.\n"
     ]
    }
   ],
   "source": [
    "pip install numpy==1.19.5"
   ]
  },
  {
   "cell_type": "markdown",
   "metadata": {},
   "source": [
    "Data_Loading"
   ]
  },
  {
   "cell_type": "code",
   "execution_count": 3,
   "metadata": {},
   "outputs": [
    {
     "ename": "FileNotFoundError",
     "evalue": "[Errno 2] No such file or directory: 'Thesis/Prepared/Not_Writng_Not/DeltaX&DeltaY/Delta_XX_Data.npy'",
     "output_type": "error",
     "traceback": [
      "\u001b[0;31m---------------------------------------------------------------------------\u001b[0m",
      "\u001b[0;31mFileNotFoundError\u001b[0m                         Traceback (most recent call last)",
      "\u001b[0;32m<ipython-input-3-625cd33f7988>\u001b[0m in \u001b[0;36m<module>\u001b[0;34m\u001b[0m\n\u001b[0;32m----> 1\u001b[0;31m \u001b[0mX\u001b[0m \u001b[0;34m=\u001b[0m \u001b[0mnp\u001b[0m\u001b[0;34m.\u001b[0m\u001b[0mload\u001b[0m\u001b[0;34m(\u001b[0m\u001b[0;34m\"Thesis/Prepared/Not_Writng_Not/DeltaX&DeltaY/Delta_XX_Data.npy\"\u001b[0m\u001b[0;34m,\u001b[0m\u001b[0mallow_pickle\u001b[0m\u001b[0;34m=\u001b[0m\u001b[0;32mTrue\u001b[0m\u001b[0;34m)\u001b[0m\u001b[0;34m\u001b[0m\u001b[0;34m\u001b[0m\u001b[0m\n\u001b[0m\u001b[1;32m      2\u001b[0m \u001b[0mY\u001b[0m \u001b[0;34m=\u001b[0m \u001b[0mnp\u001b[0m\u001b[0;34m.\u001b[0m\u001b[0mload\u001b[0m\u001b[0;34m(\u001b[0m\u001b[0;34m\"Thesis/Prepared/Not_Writng_Not/DeltaX&DeltaY/Delta_YY_Data.npy\"\u001b[0m\u001b[0;34m,\u001b[0m\u001b[0mallow_pickle\u001b[0m\u001b[0;34m=\u001b[0m\u001b[0;32mTrue\u001b[0m\u001b[0;34m)\u001b[0m\u001b[0;34m\u001b[0m\u001b[0;34m\u001b[0m\u001b[0m\n\u001b[1;32m      3\u001b[0m \u001b[0;34m\u001b[0m\u001b[0m\n\u001b[1;32m      4\u001b[0m \u001b[0;31m#y_train = np.load(\"Prepared/Not_Writng_Not/N_W_Y_train.npy\")\u001b[0m\u001b[0;34m\u001b[0m\u001b[0;34m\u001b[0m\u001b[0;34m\u001b[0m\u001b[0m\n\u001b[1;32m      5\u001b[0m \u001b[0;31m#y_test = np.load(\"Prepared/Not_Writng_Not/N_W_Y_test.npy\")\u001b[0m\u001b[0;34m\u001b[0m\u001b[0;34m\u001b[0m\u001b[0;34m\u001b[0m\u001b[0m\n",
      "\u001b[0;32m~/opt/anaconda3/lib/python3.8/site-packages/numpy/lib/npyio.py\u001b[0m in \u001b[0;36mload\u001b[0;34m(file, mmap_mode, allow_pickle, fix_imports, encoding)\u001b[0m\n\u001b[1;32m    414\u001b[0m             \u001b[0mown_fid\u001b[0m \u001b[0;34m=\u001b[0m \u001b[0;32mFalse\u001b[0m\u001b[0;34m\u001b[0m\u001b[0;34m\u001b[0m\u001b[0m\n\u001b[1;32m    415\u001b[0m         \u001b[0;32melse\u001b[0m\u001b[0;34m:\u001b[0m\u001b[0;34m\u001b[0m\u001b[0;34m\u001b[0m\u001b[0m\n\u001b[0;32m--> 416\u001b[0;31m             \u001b[0mfid\u001b[0m \u001b[0;34m=\u001b[0m \u001b[0mstack\u001b[0m\u001b[0;34m.\u001b[0m\u001b[0menter_context\u001b[0m\u001b[0;34m(\u001b[0m\u001b[0mopen\u001b[0m\u001b[0;34m(\u001b[0m\u001b[0mos_fspath\u001b[0m\u001b[0;34m(\u001b[0m\u001b[0mfile\u001b[0m\u001b[0;34m)\u001b[0m\u001b[0;34m,\u001b[0m \u001b[0;34m\"rb\"\u001b[0m\u001b[0;34m)\u001b[0m\u001b[0;34m)\u001b[0m\u001b[0;34m\u001b[0m\u001b[0;34m\u001b[0m\u001b[0m\n\u001b[0m\u001b[1;32m    417\u001b[0m             \u001b[0mown_fid\u001b[0m \u001b[0;34m=\u001b[0m \u001b[0;32mTrue\u001b[0m\u001b[0;34m\u001b[0m\u001b[0;34m\u001b[0m\u001b[0m\n\u001b[1;32m    418\u001b[0m \u001b[0;34m\u001b[0m\u001b[0m\n",
      "\u001b[0;31mFileNotFoundError\u001b[0m: [Errno 2] No such file or directory: 'Thesis/Prepared/Not_Writng_Not/DeltaX&DeltaY/Delta_XX_Data.npy'"
     ]
    }
   ],
   "source": [
    "\n",
    "X = np.load(\"Thesis/Prepared/Not_Writng_Not/DeltaX&DeltaY/Delta_XX_Data.npy\",allow_pickle=True)\n",
    "Y = np.load(\"Thesis/Prepared/Not_Writng_Not/DeltaX&DeltaY/Delta_YY_Data.npy\",allow_pickle=True)\n",
    "\n",
    "#y_train = np.load(\"Prepared/Not_Writng_Not/N_W_Y_train.npy\")\n",
    "#y_test = np.load(\"Prepared/Not_Writng_Not/N_W_Y_test.npy\")\n",
    "\n",
    "#X_train = np.load(\"Prepared/Not_Writng_Not/X&Y_Co-ordinates/N_W_X_train.npy\",allow_pickle=True)\n",
    "#X_test = np.load(\"Prepared/Not_Writng_Not/X&Y_Co-ordinates/N_W_X_test.npy\",allow_pickle=True)\n",
    "#y_train = np.load(\"Prepared/Not_Writng_Not/X&Y_Co-ordinates/N_W_Y_train.npy\",allow_pickle=True)\n",
    "#y_test = np.load(\"Prepared/Not_Writng_Not/X&Y_Co-ordinates/N_W_Y_test.npy\",allow_pickle=True)\n",
    "\n",
    "X_train, X_test, y_train , y_test  = train_test_split(X, Y, test_size = 0.30, random_state = 150, shuffle=True)\n",
    "\n",
    "\n",
    "X_train = np.asarray(X_train).astype('float32')\n",
    "X_test = np.asarray(X_test).astype('float32')\n",
    "\n",
    "y_train = tf.keras.utils.to_categorical(y_train)\n",
    "y_test = tf.keras.utils.to_categorical(y_test)\n",
    "\n",
    "y_train = np.asarray(y_train).astype('float32')\n",
    "y_test = np.asarray(y_test).astype('float32')"
   ]
  },
  {
   "cell_type": "code",
   "execution_count": 7,
   "metadata": {},
   "outputs": [
    {
     "data": {
      "text/plain": [
       "(8463, 2, 98)"
      ]
     },
     "execution_count": 7,
     "metadata": {},
     "output_type": "execute_result"
    }
   ],
   "source": [
    "#X_train = np.reshape(X_train,(8557,196,1))\n",
    "#X_test = np.reshape(X_test,(3533,196,1))\n",
    "X_train.shape                "
   ]
  },
  {
   "cell_type": "code",
   "execution_count": 8,
   "metadata": {},
   "outputs": [
    {
     "data": {
      "text/plain": [
       "(3627, 2, 98)"
      ]
     },
     "execution_count": 8,
     "metadata": {},
     "output_type": "execute_result"
    }
   ],
   "source": [
    "X_test.shape"
   ]
  },
  {
   "cell_type": "markdown",
   "metadata": {},
   "source": [
    "Model"
   ]
  },
  {
   "cell_type": "code",
   "execution_count": 23,
   "metadata": {},
   "outputs": [],
   "source": [
    "model = Sequential()"
   ]
  },
  {
   "cell_type": "code",
   "execution_count": 24,
   "metadata": {
    "id": "cqrT7hmbmNg_"
   },
   "outputs": [],
   "source": [
    "model = Sequential()\n",
    "model.add(Bidirectional(LSTM(100,return_sequences=True, input_shape=(2,98))))\n",
    "model.add(Bidirectional(LSTM(100,return_sequences=True)))\n",
    "model.add(Bidirectional(LSTM(150,return_sequences=True)))\n",
    "model.add(Bidirectional(LSTM(200)))\n",
    "model.add(Dropout(0.3))\n",
    "model.add(Dense(units = 2, activation='softmax'))"
   ]
  },
  {
   "cell_type": "code",
   "execution_count": 25,
   "metadata": {
    "id": "ahEWaJ-x8GOi"
   },
   "outputs": [],
   "source": [
    "model.compile(loss='binary_crossentropy', optimizer=tf.keras.optimizers.Adam(learning_rate=0.001), metrics=['accuracy'])"
   ]
  },
  {
   "cell_type": "markdown",
   "metadata": {},
   "source": [
    "Training"
   ]
  },
  {
   "cell_type": "code",
   "execution_count": 26,
   "metadata": {
    "colab": {
     "base_uri": "https://localhost:8080/",
     "height": 1000
    },
    "id": "oqD4qf_2-_8K",
    "outputId": "3199f11f-8df7-4c96-dfb9-41c68de7753b"
   },
   "outputs": [
    {
     "name": "stdout",
     "output_type": "stream",
     "text": [
      "Epoch 1/75\n",
      "133/133 [==============================] - 15s 31ms/step - loss: 0.5135 - accuracy: 0.7477\n",
      "Epoch 2/75\n",
      "133/133 [==============================] - 5s 35ms/step - loss: 0.2895 - accuracy: 0.8760\n",
      "Epoch 3/75\n",
      "133/133 [==============================] - 5s 37ms/step - loss: 0.2575 - accuracy: 0.8880\n",
      "Epoch 4/75\n",
      "133/133 [==============================] - 5s 40ms/step - loss: 0.2408 - accuracy: 0.9036\n",
      "Epoch 5/75\n",
      "133/133 [==============================] - 5s 41ms/step - loss: 0.2291 - accuracy: 0.9030\n",
      "Epoch 6/75\n",
      "133/133 [==============================] - 6s 42ms/step - loss: 0.2191 - accuracy: 0.9076\n",
      "Epoch 7/75\n",
      "133/133 [==============================] - 6s 44ms/step - loss: 0.2064 - accuracy: 0.9186\n",
      "Epoch 8/75\n",
      "133/133 [==============================] - 6s 45ms/step - loss: 0.1857 - accuracy: 0.9266\n",
      "Epoch 9/75\n",
      "133/133 [==============================] - 7s 51ms/step - loss: 0.1839 - accuracy: 0.9266\n",
      "Epoch 10/75\n",
      "133/133 [==============================] - 7s 52ms/step - loss: 0.1790 - accuracy: 0.9305\n",
      "Epoch 11/75\n",
      "133/133 [==============================] - 7s 54ms/step - loss: 0.1655 - accuracy: 0.9338\n",
      "Epoch 12/75\n",
      "133/133 [==============================] - 7s 56ms/step - loss: 0.1668 - accuracy: 0.9347\n",
      "Epoch 13/75\n",
      "133/133 [==============================] - 8s 62ms/step - loss: 0.1534 - accuracy: 0.9388\n",
      "Epoch 14/75\n",
      "133/133 [==============================] - 8s 60ms/step - loss: 0.1496 - accuracy: 0.9428\n",
      "Epoch 15/75\n",
      "133/133 [==============================] - 7s 52ms/step - loss: 0.1526 - accuracy: 0.9409\n",
      "Epoch 16/75\n",
      "133/133 [==============================] - 7s 49ms/step - loss: 0.1332 - accuracy: 0.9537\n",
      "Epoch 17/75\n",
      "133/133 [==============================] - 6s 49ms/step - loss: 0.1279 - accuracy: 0.9528\n",
      "Epoch 18/75\n",
      "133/133 [==============================] - 6s 48ms/step - loss: 0.1380 - accuracy: 0.9493\n",
      "Epoch 19/75\n",
      "133/133 [==============================] - 7s 50ms/step - loss: 0.1172 - accuracy: 0.9551\n",
      "Epoch 20/75\n",
      "133/133 [==============================] - 6s 48ms/step - loss: 0.1188 - accuracy: 0.9536\n",
      "Epoch 21/75\n",
      "133/133 [==============================] - 7s 49ms/step - loss: 0.1066 - accuracy: 0.9599\n",
      "Epoch 22/75\n",
      "133/133 [==============================] - 6s 49ms/step - loss: 0.0971 - accuracy: 0.9602\n",
      "Epoch 23/75\n",
      "133/133 [==============================] - 7s 50ms/step - loss: 0.1082 - accuracy: 0.9551\n",
      "Epoch 24/75\n",
      "133/133 [==============================] - 8s 58ms/step - loss: 0.0941 - accuracy: 0.9608\n",
      "Epoch 25/75\n",
      "133/133 [==============================] - 8s 58ms/step - loss: 0.0826 - accuracy: 0.9664\n",
      "Epoch 26/75\n",
      "133/133 [==============================] - 8s 57ms/step - loss: 0.0773 - accuracy: 0.9712\n",
      "Epoch 27/75\n",
      "133/133 [==============================] - 8s 57ms/step - loss: 0.0653 - accuracy: 0.9759\n",
      "Epoch 28/75\n",
      "133/133 [==============================] - 8s 60ms/step - loss: 0.0779 - accuracy: 0.9709\n",
      "Epoch 29/75\n",
      "133/133 [==============================] - 8s 60ms/step - loss: 0.0857 - accuracy: 0.9638\n",
      "Epoch 30/75\n",
      "133/133 [==============================] - 8s 62ms/step - loss: 0.0680 - accuracy: 0.9746\n",
      "Epoch 31/75\n",
      "133/133 [==============================] - 8s 61ms/step - loss: 0.0651 - accuracy: 0.9771\n",
      "Epoch 32/75\n",
      "133/133 [==============================] - 8s 60ms/step - loss: 0.0587 - accuracy: 0.9786\n",
      "Epoch 33/75\n",
      "133/133 [==============================] - 8s 59ms/step - loss: 0.0667 - accuracy: 0.9749\n",
      "Epoch 34/75\n",
      "133/133 [==============================] - 8s 58ms/step - loss: 0.0546 - accuracy: 0.9764\n",
      "Epoch 35/75\n",
      "133/133 [==============================] - 8s 58ms/step - loss: 0.0490 - accuracy: 0.9815\n",
      "Epoch 36/75\n",
      "133/133 [==============================] - 8s 59ms/step - loss: 0.0534 - accuracy: 0.9771\n",
      "Epoch 37/75\n",
      "133/133 [==============================] - 8s 59ms/step - loss: 0.0457 - accuracy: 0.9801\n",
      "Epoch 38/75\n",
      "133/133 [==============================] - 7s 56ms/step - loss: 0.0349 - accuracy: 0.9871\n",
      "Epoch 39/75\n",
      "133/133 [==============================] - 7s 55ms/step - loss: 0.0409 - accuracy: 0.9848\n",
      "Epoch 40/75\n",
      "133/133 [==============================] - 7s 56ms/step - loss: 0.0339 - accuracy: 0.9876\n",
      "Epoch 41/75\n",
      "133/133 [==============================] - 7s 56ms/step - loss: 0.0258 - accuracy: 0.9905\n",
      "Epoch 42/75\n",
      "133/133 [==============================] - 7s 56ms/step - loss: 0.0457 - accuracy: 0.9822\n",
      "Epoch 43/75\n",
      "133/133 [==============================] - 7s 56ms/step - loss: 0.0316 - accuracy: 0.9877\n",
      "Epoch 44/75\n",
      "133/133 [==============================] - 8s 57ms/step - loss: 0.0343 - accuracy: 0.9865\n",
      "Epoch 45/75\n",
      "133/133 [==============================] - 7s 55ms/step - loss: 0.0467 - accuracy: 0.9832\n",
      "Epoch 46/75\n",
      "133/133 [==============================] - 7s 56ms/step - loss: 0.0392 - accuracy: 0.9843\n",
      "Epoch 47/75\n",
      "133/133 [==============================] - 8s 57ms/step - loss: 0.0313 - accuracy: 0.9885\n",
      "Epoch 48/75\n",
      "133/133 [==============================] - 8s 57ms/step - loss: 0.0350 - accuracy: 0.9896\n",
      "Epoch 49/75\n",
      "133/133 [==============================] - 7s 55ms/step - loss: 0.0483 - accuracy: 0.9815\n",
      "Epoch 50/75\n",
      "133/133 [==============================] - 7s 56ms/step - loss: 0.0270 - accuracy: 0.9908\n",
      "Epoch 51/75\n",
      "133/133 [==============================] - 8s 59ms/step - loss: 0.0369 - accuracy: 0.9871\n",
      "Epoch 52/75\n",
      "133/133 [==============================] - 8s 62ms/step - loss: 0.0200 - accuracy: 0.9924\n",
      "Epoch 53/75\n",
      "133/133 [==============================] - 8s 62ms/step - loss: 0.0185 - accuracy: 0.9932\n",
      "Epoch 54/75\n",
      "133/133 [==============================] - 7s 54ms/step - loss: 0.0333 - accuracy: 0.9881\n",
      "Epoch 55/75\n",
      "133/133 [==============================] - 7s 49ms/step - loss: 0.0280 - accuracy: 0.9898\n",
      "Epoch 56/75\n",
      "133/133 [==============================] - 7s 50ms/step - loss: 0.0159 - accuracy: 0.9924\n",
      "Epoch 57/75\n",
      "133/133 [==============================] - 7s 55ms/step - loss: 0.0251 - accuracy: 0.9929\n",
      "Epoch 58/75\n",
      "133/133 [==============================] - 7s 50ms/step - loss: 0.0322 - accuracy: 0.9881\n",
      "Epoch 59/75\n",
      "133/133 [==============================] - 7s 49ms/step - loss: 0.0218 - accuracy: 0.9908\n",
      "Epoch 60/75\n",
      "133/133 [==============================] - 6s 47ms/step - loss: 0.0150 - accuracy: 0.9953\n",
      "Epoch 61/75\n",
      "133/133 [==============================] - 6s 45ms/step - loss: 0.0146 - accuracy: 0.9950\n",
      "Epoch 62/75\n",
      "133/133 [==============================] - 6s 46ms/step - loss: 0.0211 - accuracy: 0.9923\n",
      "Epoch 63/75\n",
      "133/133 [==============================] - 7s 50ms/step - loss: 0.0197 - accuracy: 0.9913\n",
      "Epoch 64/75\n",
      "133/133 [==============================] - 6s 46ms/step - loss: 0.0172 - accuracy: 0.9945\n",
      "Epoch 65/75\n",
      "133/133 [==============================] - 6s 47ms/step - loss: 0.0202 - accuracy: 0.9918\n",
      "Epoch 66/75\n",
      "133/133 [==============================] - 6s 46ms/step - loss: 0.0204 - accuracy: 0.9910\n",
      "Epoch 67/75\n",
      "133/133 [==============================] - 6s 46ms/step - loss: 0.0233 - accuracy: 0.9924\n",
      "Epoch 68/75\n",
      "133/133 [==============================] - 6s 45ms/step - loss: 0.0227 - accuracy: 0.9926\n",
      "Epoch 69/75\n",
      "133/133 [==============================] - 6s 45ms/step - loss: 0.0250 - accuracy: 0.9907\n",
      "Epoch 70/75\n",
      "133/133 [==============================] - 7s 55ms/step - loss: 0.0241 - accuracy: 0.9932\n",
      "Epoch 71/75\n",
      "133/133 [==============================] - 7s 51ms/step - loss: 0.0159 - accuracy: 0.9942\n",
      "Epoch 72/75\n",
      "133/133 [==============================] - 7s 53ms/step - loss: 0.0123 - accuracy: 0.9953\n",
      "Epoch 73/75\n",
      "133/133 [==============================] - 7s 53ms/step - loss: 0.0304 - accuracy: 0.9896\n",
      "Epoch 74/75\n",
      "133/133 [==============================] - 7s 54ms/step - loss: 0.0116 - accuracy: 0.9950\n",
      "Epoch 75/75\n",
      "133/133 [==============================] - 8s 57ms/step - loss: 0.0209 - accuracy: 0.9927\n"
     ]
    }
   ],
   "source": [
    "history = model.fit(X_train, y_train,epochs=75, batch_size=64)"
   ]
  },
  {
   "cell_type": "code",
   "execution_count": 27,
   "metadata": {
    "colab": {
     "base_uri": "https://localhost:8080/",
     "height": 255
    },
    "id": "-zdVbmSfJACt",
    "outputId": "637da40f-22df-4932-cddf-a8b4b5ca883f"
   },
   "outputs": [
    {
     "name": "stdout",
     "output_type": "stream",
     "text": [
      "Model: \"sequential_7\"\n",
      "_________________________________________________________________\n",
      "Layer (type)                 Output Shape              Param #   \n",
      "=================================================================\n",
      "bidirectional_7 (Bidirection (None, 2, 200)            159200    \n",
      "_________________________________________________________________\n",
      "bidirectional_8 (Bidirection (None, 2, 200)            240800    \n",
      "_________________________________________________________________\n",
      "bidirectional_9 (Bidirection (None, 2, 300)            421200    \n",
      "_________________________________________________________________\n",
      "bidirectional_10 (Bidirectio (None, 400)               801600    \n",
      "_________________________________________________________________\n",
      "dropout_3 (Dropout)          (None, 400)               0         \n",
      "_________________________________________________________________\n",
      "dense_3 (Dense)              (None, 2)                 802       \n",
      "=================================================================\n",
      "Total params: 1,623,602\n",
      "Trainable params: 1,623,602\n",
      "Non-trainable params: 0\n",
      "_________________________________________________________________\n"
     ]
    }
   ],
   "source": [
    "model.summary()"
   ]
  },
  {
   "cell_type": "markdown",
   "metadata": {},
   "source": [
    "Testing"
   ]
  },
  {
   "cell_type": "code",
   "execution_count": 28,
   "metadata": {
    "id": "P2YQzh5p-QO1"
   },
   "outputs": [],
   "source": [
    "# fit the model\n",
    "preds = model.predict(X_test)"
   ]
  },
  {
   "cell_type": "code",
   "execution_count": 29,
   "metadata": {},
   "outputs": [
    {
     "data": {
      "text/plain": [
       "array([0, 0, 0, ..., 0, 0, 1])"
      ]
     },
     "execution_count": 29,
     "metadata": {},
     "output_type": "execute_result"
    }
   ],
   "source": [
    "predict = np.argmax(preds,axis = 1)\n",
    "predict\n"
   ]
  },
  {
   "cell_type": "code",
   "execution_count": 30,
   "metadata": {},
   "outputs": [
    {
     "name": "stdout",
     "output_type": "stream",
     "text": [
      "114/114 [==============================] - 4s 9ms/step - loss: 0.4092 - accuracy: 0.9203\n"
     ]
    },
    {
     "data": {
      "text/plain": [
       "[0.4092452824115753, 0.9203197956085205]"
      ]
     },
     "execution_count": 30,
     "metadata": {},
     "output_type": "execute_result"
    }
   ],
   "source": [
    "model.evaluate(X_test,y_test)"
   ]
  },
  {
   "cell_type": "code",
   "execution_count": 31,
   "metadata": {},
   "outputs": [],
   "source": [
    "y_train = np.array(y_train)"
   ]
  },
  {
   "cell_type": "code",
   "execution_count": 32,
   "metadata": {},
   "outputs": [
    {
     "data": {
      "text/plain": [
       "(3627, 2)"
      ]
     },
     "execution_count": 32,
     "metadata": {},
     "output_type": "execute_result"
    }
   ],
   "source": [
    "y_test.shape"
   ]
  },
  {
   "cell_type": "code",
   "execution_count": 33,
   "metadata": {},
   "outputs": [
    {
     "data": {
      "text/plain": [
       "array([0, 0, 0, ..., 0, 0, 1])"
      ]
     },
     "execution_count": 33,
     "metadata": {},
     "output_type": "execute_result"
    }
   ],
   "source": [
    "y_test = np.argmax(y_test,axis = 1)\n",
    "y_test"
   ]
  },
  {
   "cell_type": "code",
   "execution_count": 41,
   "metadata": {},
   "outputs": [
    {
     "name": "stdout",
     "output_type": "stream",
     "text": [
      "Accuracy Score =  0.92031982354563\n"
     ]
    }
   ],
   "source": [
    "from sklearn.metrics import accuracy_score\n",
    "\n",
    "print(\"Accuracy Score = \", accuracy_score(y_test, predict))"
   ]
  },
  {
   "cell_type": "markdown",
   "metadata": {},
   "source": [
    "Evaluation"
   ]
  },
  {
   "cell_type": "code",
   "execution_count": 42,
   "metadata": {},
   "outputs": [
    {
     "data": {
      "text/plain": [
       "array([[2283,  141],\n",
       "       [ 148, 1055]])"
      ]
     },
     "execution_count": 42,
     "metadata": {},
     "output_type": "execute_result"
    }
   ],
   "source": [
    "from sklearn.metrics import ConfusionMatrixDisplay, confusion_matrix\n",
    "cm = confusion_matrix(y_test, predict)\n",
    "\n",
    "cm"
   ]
  },
  {
   "cell_type": "code",
   "execution_count": 48,
   "metadata": {},
   "outputs": [],
   "source": [
    "def print_confusion_matrix(confusion_matrix, class_names, figsize = (8,8),\n",
    "                           fontsize=14, normalize=True):\n",
    "     \n",
    "    if normalize:\n",
    "        confusion_matrix = confusion_matrix.astype('float') / confusion_matrix.sum(axis=1)[:, np.newaxis]\n",
    "        fmt = '.2f'\n",
    "    else:\n",
    "        fmt = 'd'\n",
    "\n",
    "    df_cm = pd.DataFrame(\n",
    "        confusion_matrix, index=class_names, columns=class_names,\n",
    "    )\n",
    "    fig = plt.figure(figsize=figsize)\n",
    "    try:\n",
    "        heatmap = sns.heatmap(df_cm, annot=True, fmt= fmt)\n",
    "    except ValueError:\n",
    "        raise ValueError(\"Confusion matrix values must be integers.\")\n",
    "    heatmap.yaxis.set_ticklabels(heatmap.yaxis.get_ticklabels(), rotation=0, ha='right', fontsize=fontsize)\n",
    "    heatmap.xaxis.set_ticklabels(heatmap.xaxis.get_ticklabels(), rotation=45, ha='right', fontsize=fontsize)\n",
    "    plt.ylabel('True label')\n",
    "    plt.xlabel('Predicted label')"
   ]
  },
  {
   "cell_type": "code",
   "execution_count": 51,
   "metadata": {
    "colab": {
     "base_uri": "https://localhost:8080/",
     "height": 1000
    },
    "id": "fzbzP3htJXgC",
    "outputId": "6242b29f-5e64-4135-c6c3-7d071b6df4e2"
   },
   "outputs": [
    {
     "data": {
      "image/png": "[encoded data removed]",
      "text/plain": [
       "<Figure size 576x576 with 2 Axes>"
      ]
     },
     "metadata": {
      "needs_background": "light"
     },
     "output_type": "display_data"
    }
   ],
   "source": [
    "import seaborn as sns\n",
    "\n",
    "class_names = ['Not Writing','Writing']\n",
    "print_confusion_matrix(cm, class_names)\n",
    "plt.savefig('Confusion_Matrix_BLSTM(x,y).png', dpi=300)"
   ]
  },
  {
   "cell_type": "code",
   "execution_count": 52,
   "metadata": {},
   "outputs": [
    {
     "name": "stdout",
     "output_type": "stream",
     "text": [
      "              precision    recall  f1-score   support\n",
      "\n",
      "  Not_Writng       0.94      0.94      0.94      2424\n",
      "      Writng       0.88      0.88      0.88      1203\n",
      "\n",
      "    accuracy                           0.92      3627\n",
      "   macro avg       0.91      0.91      0.91      3627\n",
      "weighted avg       0.92      0.92      0.92      3627\n",
      "\n"
     ]
    }
   ],
   "source": [
    "report = classification_report(y_test, predict,target_names=['Not_Writng', 'Writng'])\n",
    "print(report)"
   ]
  },
  {
   "cell_type": "code",
   "execution_count": 53,
   "metadata": {},
   "outputs": [
    {
     "name": "stdout",
     "output_type": "stream",
     "text": [
      "Counter({True: 3338, False: 289})\n"
     ]
    }
   ],
   "source": [
    "from collections import Counter\n",
    "\n",
    "\n",
    "correct = [pred == true for pred, true in zip(predict, y_test)]\n",
    "correct = np.array(correct).flatten()\n",
    "print(Counter(correct))"
   ]
  },
  {
   "cell_type": "code",
   "execution_count": 54,
   "metadata": {},
   "outputs": [],
   "source": [
    "YY = np.array(y_test).flatten()\n",
    "classifiedIndexes = np.where(YY==predict)[0]\n",
    "misclassifiedIndexes = np.where(YY!=predict)[0]"
   ]
  },
  {
   "cell_type": "code",
   "execution_count": null,
   "metadata": {},
   "outputs": [],
   "source": []
  },
  {
   "cell_type": "code",
   "execution_count": 79,
   "metadata": {},
   "outputs": [
    {
     "data": {
      "text/plain": [
       "0.0"
      ]
     },
     "execution_count": 79,
     "metadata": {},
     "output_type": "execute_result"
    }
   ],
   "source": [
    "A = 789\n",
    "P = predict[A]\n",
    "Y = y_test[A]\n",
    "\n",
    "Y"
   ]
  },
  {
   "cell_type": "code",
   "execution_count": 80,
   "metadata": {},
   "outputs": [
    {
     "data": {
      "text/plain": [
       "0"
      ]
     },
     "execution_count": 80,
     "metadata": {},
     "output_type": "execute_result"
    }
   ],
   "source": [
    "P"
   ]
  },
  {
   "cell_type": "code",
   "execution_count": 81,
   "metadata": {},
   "outputs": [],
   "source": [
    "X_test = np.asarray(X_test).astype('float32')\n",
    "y_test = np.asarray(y_test).astype('float32')\n",
    "X_test = np.reshape(X_test,(3627,2,98))"
   ]
  },
  {
   "cell_type": "code",
   "execution_count": 82,
   "metadata": {},
   "outputs": [
    {
     "data": {
      "text/plain": [
       "(3627,)"
      ]
     },
     "execution_count": 82,
     "metadata": {},
     "output_type": "execute_result"
    }
   ],
   "source": [
    "y_test.shape"
   ]
  },
  {
   "cell_type": "code",
   "execution_count": 83,
   "metadata": {},
   "outputs": [],
   "source": [
    "X = X_test[A]\n",
    "XX = X"
   ]
  },
  {
   "cell_type": "code",
   "execution_count": 84,
   "metadata": {},
   "outputs": [
    {
     "data": {
      "text/plain": [
       "0.0"
      ]
     },
     "execution_count": 84,
     "metadata": {},
     "output_type": "execute_result"
    }
   ],
   "source": [
    "y_test[A]"
   ]
  },
  {
   "cell_type": "code",
   "execution_count": 85,
   "metadata": {},
   "outputs": [
    {
     "data": {
      "image/png": "[encoded data removed]",
      "text/plain": [
       "<Figure size 432x288 with 1 Axes>"
      ]
     },
     "metadata": {
      "needs_background": "light"
     },
     "output_type": "display_data"
    }
   ],
   "source": [
    "import matplotlib.pyplot as plt\n",
    "\n",
    "x = XX[0]\n",
    "y = XX[1]\n",
    "\n",
    "plt.plot(x, y)\n",
    "plt.title('X Y Co-ordinates')\n",
    "plt.savefig(\"0_MC2_1.png\")\n",
    "\n",
    "plt.show()"
   ]
  }
 ],
 "metadata": {
  "colab": {
   "name": "Bidirectional_LSTM_Fairwrite.ipynb",
   "provenance": []
  },
  "kernelspec": {
   "display_name": "Python 3",
   "language": "python",
   "name": "python3"
  },
  "language_info": {
   "codemirror_mode": {
    "name": "ipython",
    "version": 3
   },
   "file_extension": ".py",
   "mimetype": "text/x-python",
   "name": "python",
   "nbconvert_exporter": "python",
   "pygments_lexer": "ipython3",
   "version": "3.8.5"
  }
 },
 "nbformat": 4,
 "nbformat_minor": 1
}
