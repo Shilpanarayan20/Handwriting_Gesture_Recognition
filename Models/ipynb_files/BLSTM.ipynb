{
  "cells": [
    {
      "cell_type": "code",
      "execution_count": null,
      "metadata": {
        "id": "yJ8PCOkNcdh-"
      },
      "outputs": [],
      "source": [
        "import numpy as np\n",
        "import matplotlib.pyplot as plt\n",
        "from keras.models import Sequential\n",
        "from keras.layers import Dense\n",
        "from keras.layers import LSTM\n",
        "from keras.layers import Dropout\n",
        "from keras.layers import Bidirectional\n",
        "from sklearn.model_selection import train_test_split\n",
        "from sklearn.metrics import classification_report, confusion_matrix\n",
        "import pandas as pd\n",
        "import seaborn as sns\n",
        "from keras import utils as np_utils\n",
        "import tensorflow as tf\n",
        "from tensorflow import keras"
      ]
    },
    {
      "cell_type": "code",
      "execution_count": null,
      "metadata": {
        "id": "5R6P6r9yHmjY"
      },
      "outputs": [],
      "source": [
        "pip install numpy==1.19.5"
      ]
    },
    {
      "cell_type": "markdown",
      "metadata": {
        "id": "fy9k3SlNHmjZ"
      },
      "source": [
        "Data_Loading"
      ]
    },
    {
      "cell_type": "code",
      "execution_count": null,
      "metadata": {
        "id": "60pW6pgmHmjb"
      },
      "outputs": [],
      "source": [
        "\n",
        "X = np.load(\"Thesis/Prepared/Not_Writng_Not/DeltaX&DeltaY/Delta_XX_Data.npy\",allow_pickle=True)\n",
        "Y = np.load(\"Thesis/Prepared/Not_Writng_Not/DeltaX&DeltaY/Delta_YY_Data.npy\",allow_pickle=True)\n",
        "\n",
        "#y_train = np.load(\"Prepared/Not_Writng_Not/N_W_Y_train.npy\")\n",
        "#y_test = np.load(\"Prepared/Not_Writng_Not/N_W_Y_test.npy\")\n",
        "\n",
        "#X_train = np.load(\"Prepared/Not_Writng_Not/X&Y_Co-ordinates/N_W_X_train.npy\",allow_pickle=True)\n",
        "#X_test = np.load(\"Prepared/Not_Writng_Not/X&Y_Co-ordinates/N_W_X_test.npy\",allow_pickle=True)\n",
        "#y_train = np.load(\"Prepared/Not_Writng_Not/X&Y_Co-ordinates/N_W_Y_train.npy\",allow_pickle=True)\n",
        "#y_test = np.load(\"Prepared/Not_Writng_Not/X&Y_Co-ordinates/N_W_Y_test.npy\",allow_pickle=True)\n",
        "\n",
        "X_train, X_test, y_train , y_test  = train_test_split(X, Y, test_size = 0.30, random_state = 150, shuffle=True)\n",
        "\n",
        "\n",
        "X_train = np.asarray(X_train).astype('float32')\n",
        "X_test = np.asarray(X_test).astype('float32')\n",
        "\n",
        "y_train = tf.keras.utils.to_categorical(y_train)\n",
        "y_test = tf.keras.utils.to_categorical(y_test)\n",
        "\n",
        "y_train = np.asarray(y_train).astype('float32')\n",
        "y_test = np.asarray(y_test).astype('float32')"
      ]
    },
    {
      "cell_type": "code",
      "execution_count": null,
      "metadata": {
        "id": "33F2jx7uHmjb"
      },
      "outputs": [],
      "source": [
        "#X_train = np.reshape(X_train,(8557,196,1))\n",
        "#X_test = np.reshape(X_test,(3533,196,1))\n",
        "X_train.shape                "
      ]
    },
    {
      "cell_type": "code",
      "execution_count": null,
      "metadata": {
        "id": "VsGLvEivHmjc"
      },
      "outputs": [],
      "source": [
        "X_test.shape"
      ]
    },
    {
      "cell_type": "markdown",
      "metadata": {
        "id": "jESmryY8Hmjc"
      },
      "source": [
        "Model"
      ]
    },
    {
      "cell_type": "code",
      "execution_count": null,
      "metadata": {
        "id": "m8GmxepVHmjc"
      },
      "outputs": [],
      "source": [
        "model = Sequential()"
      ]
    },
    {
      "cell_type": "code",
      "execution_count": null,
      "metadata": {
        "id": "cqrT7hmbmNg_"
      },
      "outputs": [],
      "source": [
        "model = Sequential()\n",
        "model.add(Bidirectional(LSTM(2,return_sequences=True, input_shape=(2,98))))\n",
        "model.add(Bidirectional(LSTM(4,return_sequences=True)))\n",
        "model.add(Bidirectional(LSTM(8,return_sequences=True)))\n",
        "model.add(Bidirectional(LSTM(16)))\n",
        "model.add(Dropout(0.3))\n",
        "model.add(Dense(units = 2, activation='softmax'))"
      ]
    },
    {
      "cell_type": "code",
      "execution_count": null,
      "metadata": {
        "id": "ahEWaJ-x8GOi"
      },
      "outputs": [],
      "source": [
        "model.compile(loss='binary_crossentropy', optimizer=tf.keras.optimizers.Adam(learning_rate=0.001), metrics=['accuracy'])"
      ]
    },
    {
      "cell_type": "markdown",
      "metadata": {
        "id": "4ckrpGgMHmjd"
      },
      "source": [
        "Training"
      ]
    },
    {
      "cell_type": "code",
      "execution_count": null,
      "metadata": {
        "id": "oqD4qf_2-_8K"
      },
      "outputs": [],
      "source": [
        "history = model.fit(X_train, y_train,epochs=75, batch_size=64)"
      ]
    },
    {
      "cell_type": "code",
      "execution_count": null,
      "metadata": {
        "id": "-zdVbmSfJACt"
      },
      "outputs": [],
      "source": [
        "model.summary()"
      ]
    },
    {
      "cell_type": "markdown",
      "metadata": {
        "id": "OXq5RyXGHmjf"
      },
      "source": [
        "Testing"
      ]
    },
    {
      "cell_type": "code",
      "execution_count": null,
      "metadata": {
        "id": "P2YQzh5p-QO1"
      },
      "outputs": [],
      "source": [
        "# fit the model\n",
        "preds = model.predict(X_test)"
      ]
    },
    {
      "cell_type": "code",
      "execution_count": null,
      "metadata": {
        "id": "PCeWGde6Hmjf"
      },
      "outputs": [],
      "source": [
        "predict = np.argmax(preds,axis = 1)\n",
        "predict\n"
      ]
    },
    {
      "cell_type": "code",
      "execution_count": null,
      "metadata": {
        "id": "a1T8bCa_Hmjg"
      },
      "outputs": [],
      "source": [
        "model.evaluate(X_test,y_test)"
      ]
    },
    {
      "cell_type": "code",
      "execution_count": null,
      "metadata": {
        "id": "_Gh3nli6Hmjg"
      },
      "outputs": [],
      "source": [
        "y_train = np.array(y_train)"
      ]
    },
    {
      "cell_type": "code",
      "execution_count": null,
      "metadata": {
        "id": "ue8dB7m9Hmjg"
      },
      "outputs": [],
      "source": [
        "y_test.shape"
      ]
    },
    {
      "cell_type": "code",
      "execution_count": null,
      "metadata": {
        "id": "bqeZWsfGHmjh"
      },
      "outputs": [],
      "source": [
        "y_test = np.argmax(y_test,axis = 1)\n",
        "y_test"
      ]
    },
    {
      "cell_type": "code",
      "execution_count": null,
      "metadata": {
        "id": "pNDRZ2gbHmjh"
      },
      "outputs": [],
      "source": [
        "from sklearn.metrics import accuracy_score\n",
        "\n",
        "print(\"Accuracy Score = \", accuracy_score(y_test, predict))"
      ]
    },
    {
      "cell_type": "markdown",
      "metadata": {
        "id": "U1Tlvf6DHmjh"
      },
      "source": [
        "Evaluation"
      ]
    },
    {
      "cell_type": "code",
      "execution_count": null,
      "metadata": {
        "id": "F8qSh9ApHmji"
      },
      "outputs": [],
      "source": [
        "from sklearn.metrics import ConfusionMatrixDisplay, confusion_matrix\n",
        "cm = confusion_matrix(y_test, predict)\n",
        "\n",
        "cm"
      ]
    },
    {
      "cell_type": "code",
      "execution_count": null,
      "metadata": {
        "id": "pZQ6Ds7jHmji"
      },
      "outputs": [],
      "source": [
        "def print_confusion_matrix(confusion_matrix, class_names, figsize = (8,8),\n",
        "                           fontsize=14, normalize=True):\n",
        "     \n",
        "    if normalize:\n",
        "        confusion_matrix = confusion_matrix.astype('float') / confusion_matrix.sum(axis=1)[:, np.newaxis]\n",
        "        fmt = '.2f'\n",
        "    else:\n",
        "        fmt = 'd'\n",
        "\n",
        "    df_cm = pd.DataFrame(\n",
        "        confusion_matrix, index=class_names, columns=class_names,\n",
        "    )\n",
        "    fig = plt.figure(figsize=figsize)\n",
        "    try:\n",
        "        heatmap = sns.heatmap(df_cm, annot=True, fmt= fmt)\n",
        "    except ValueError:\n",
        "        raise ValueError(\"Confusion matrix values must be integers.\")\n",
        "    heatmap.yaxis.set_ticklabels(heatmap.yaxis.get_ticklabels(), rotation=0, ha='right', fontsize=fontsize)\n",
        "    heatmap.xaxis.set_ticklabels(heatmap.xaxis.get_ticklabels(), rotation=45, ha='right', fontsize=fontsize)\n",
        "    plt.ylabel('True label')\n",
        "    plt.xlabel('Predicted label')"
      ]
    },
    {
      "cell_type": "code",
      "execution_count": null,
      "metadata": {
        "id": "fzbzP3htJXgC"
      },
      "outputs": [],
      "source": [
        "import seaborn as sns\n",
        "\n",
        "class_names = ['Not Writing','Writing']\n",
        "print_confusion_matrix(cm, class_names)\n",
        "plt.savefig('Confusion_Matrix_BLSTM(x,y).png', dpi=300)"
      ]
    },
    {
      "cell_type": "code",
      "execution_count": null,
      "metadata": {
        "id": "2CXJdXqLHmjj"
      },
      "outputs": [],
      "source": [
        "report = classification_report(y_test, predict,target_names=['Not_Writng', 'Writng'])\n",
        "print(report)"
      ]
    },
    {
      "cell_type": "code",
      "execution_count": null,
      "metadata": {
        "id": "sJLGcnWAHmjj"
      },
      "outputs": [],
      "source": [
        "from collections import Counter\n",
        "\n",
        "\n",
        "correct = [pred == true for pred, true in zip(predict, y_test)]\n",
        "correct = np.array(correct).flatten()\n",
        "print(Counter(correct))"
      ]
    },
    {
      "cell_type": "code",
      "execution_count": null,
      "metadata": {
        "id": "mbMaes5WHmjj"
      },
      "outputs": [],
      "source": [
        "YY = np.array(y_test).flatten()\n",
        "classifiedIndexes = np.where(YY==predict)[0]\n",
        "misclassifiedIndexes = np.where(YY!=predict)[0]"
      ]
    },
    {
      "cell_type": "code",
      "execution_count": null,
      "metadata": {
        "id": "LtXTLY6vHmjj"
      },
      "outputs": [],
      "source": []
    },
    {
      "cell_type": "code",
      "execution_count": null,
      "metadata": {
        "id": "haCEaECcHmjj"
      },
      "outputs": [],
      "source": [
        "A = 789\n",
        "P = predict[A]\n",
        "Y = y_test[A]\n",
        "\n",
        "Y"
      ]
    },
    {
      "cell_type": "code",
      "execution_count": null,
      "metadata": {
        "id": "3SWMI0bBHmjk"
      },
      "outputs": [],
      "source": [
        "P"
      ]
    },
    {
      "cell_type": "code",
      "execution_count": null,
      "metadata": {
        "id": "dCJB-eqgHmjk"
      },
      "outputs": [],
      "source": [
        "X_test = np.asarray(X_test).astype('float32')\n",
        "y_test = np.asarray(y_test).astype('float32')\n",
        "X_test = np.reshape(X_test,(3627,2,98))"
      ]
    },
    {
      "cell_type": "code",
      "execution_count": null,
      "metadata": {
        "id": "H3w1JVKNHmjk"
      },
      "outputs": [],
      "source": [
        "y_test.shape"
      ]
    },
    {
      "cell_type": "code",
      "execution_count": null,
      "metadata": {
        "id": "dAxVpf2uHmjk"
      },
      "outputs": [],
      "source": [
        "X = X_test[A]\n",
        "XX = X"
      ]
    },
    {
      "cell_type": "code",
      "execution_count": null,
      "metadata": {
        "id": "Op1YIw7oHmjl"
      },
      "outputs": [],
      "source": [
        "y_test[A]"
      ]
    },
    {
      "cell_type": "code",
      "execution_count": null,
      "metadata": {
        "id": "JOAZSVdHHmjl"
      },
      "outputs": [],
      "source": [
        "import matplotlib.pyplot as plt\n",
        "\n",
        "x = XX[0]\n",
        "y = XX[1]\n",
        "\n",
        "plt.plot(x, y)\n",
        "plt.title('X Y Co-ordinates')\n",
        "plt.savefig(\"0_MC2_1.png\")\n",
        "\n",
        "plt.show()"
      ]
    }
  ],
  "metadata": {
    "colab": {
      "provenance": []
    },
    "kernelspec": {
      "display_name": "Python 3",
      "language": "python",
      "name": "python3"
    },
    "language_info": {
      "codemirror_mode": {
        "name": "ipython",
        "version": 3
      },
      "file_extension": ".py",
      "mimetype": "text/x-python",
      "name": "python",
      "nbconvert_exporter": "python",
      "pygments_lexer": "ipython3",
      "version": "3.8.5"
    }
  },
  "nbformat": 4,
  "nbformat_minor": 0
}
