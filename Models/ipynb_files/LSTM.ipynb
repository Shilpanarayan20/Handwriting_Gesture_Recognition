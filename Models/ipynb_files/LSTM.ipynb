{
  "cells": [
    {
      "cell_type": "code",
      "execution_count": null,
      "metadata": {
        "id": "yJ8PCOkNcdh-"
      },
      "outputs": [],
      "source": [
        "import numpy as np\n",
        "import matplotlib.pyplot as plt\n",
        "from keras.models import Sequential\n",
        "from keras.layers import Dense\n",
        "from keras.layers import LSTM\n",
        "from keras.layers import Dropout\n",
        "from keras.layers import Conv1D\n",
        "from keras.layers import Input\n",
        "from keras.layers import MaxPooling1D\n",
        "from keras import Model\n",
        "from sklearn.model_selection import train_test_split\n",
        "from sklearn.metrics import classification_report, confusion_matrix\n",
        "import pandas as pd\n",
        "import tensorflow as tf\n",
        "import seaborn as sns"
      ]
    },
    {
      "cell_type": "markdown",
      "metadata": {
        "id": "VNgcKQ3BH7Z4"
      },
      "source": [
        "Data_Loading"
      ]
    },
    {
      "cell_type": "code",
      "execution_count": null,
      "metadata": {
        "id": "2utUSTpaH7Z6"
      },
      "outputs": [],
      "source": [
        "\n",
        "\n",
        "#X = np.load(\"Prepared/Not_Writng_Not/Feature_N_W.npy\",allow_pickle=True)\n",
        "#Y = np.load(\"Prepared/Not_Writng_Not/Feature_N_W_Y.npy\",allow_pickle=True)\n",
        "\n",
        "#X_train, X_test, y_train , y_test  = train_test_split(X, Y, test_size = 0.30, random_state = 150, shuffle=True)\n",
        "\n",
        "X_train = np.load(\"X_Train.npy\",allow_pickle=True)\n",
        "X_test = np.load(\"X_Test.npy\",allow_pickle=True)\n",
        "y_train = np.load(\"Y_Train.npy\",allow_pickle=True)\n",
        "y_test = np.load(\"Y_Test.npy\",allow_pickle=True)\n",
        "\n",
        "X_train = np.asarray(X_train).astype('float32')\n",
        "X_test = np.asarray(X_test).astype('float32')\n",
        "\n"
      ]
    },
    {
      "cell_type": "code",
      "execution_count": null,
      "metadata": {
        "id": "6OWvf2gdH7Z6"
      },
      "outputs": [],
      "source": [
        "#y_train = tf.keras.utils.to_categorical(y_train)\n",
        "y_test = tf.keras.utils.to_categorical(y_test)\n",
        "\n",
        "#y_train = np.asarray(y_train).astype('float32')\n",
        "y_test = np.asarray(y_test).astype('float32')"
      ]
    },
    {
      "cell_type": "code",
      "execution_count": null,
      "metadata": {
        "id": "KR6TSHNeH7Z6"
      },
      "outputs": [],
      "source": [
        "y_test.shape"
      ]
    },
    {
      "cell_type": "markdown",
      "metadata": {
        "id": "eWTK5iCkH7Z7"
      },
      "source": [
        "Model"
      ]
    },
    {
      "cell_type": "code",
      "execution_count": null,
      "metadata": {
        "id": "mps5Wtdrvqzb"
      },
      "outputs": [],
      "source": [
        "model = Sequential()\n",
        "\n",
        "model.add(LSTM(2,return_sequences=True, input_shape=(2,98)))\n",
        "model.add(LSTM(4,return_sequences=True))\n",
        "model.add(LSTM(8,return_sequences=True))\n",
        "model.add(LSTM(16))\n",
        "model.add(Dropout(0.3))\n",
        "model.add(Dense(units = 2, activation='softmax'))\n"
      ]
    },
    {
      "cell_type": "code",
      "execution_count": null,
      "metadata": {
        "id": "JGTdnh9DwmX_"
      },
      "outputs": [],
      "source": [
        "model.compile(loss='binary_crossentropy', optimizer=tf.keras.optimizers.Adam(learning_rate=0.001), metrics=['accuracy'])"
      ]
    },
    {
      "cell_type": "markdown",
      "metadata": {
        "id": "aRDLFTkDH7Z8"
      },
      "source": [
        "Training"
      ]
    },
    {
      "cell_type": "code",
      "execution_count": null,
      "metadata": {
        "id": "p7mEtAU0w9M3"
      },
      "outputs": [],
      "source": [
        "history = model.fit(X_train, y_train,epochs=75, batch_size=64)"
      ]
    },
    {
      "cell_type": "markdown",
      "metadata": {
        "id": "NcWz3PbkH7Z8"
      },
      "source": [
        "Testing"
      ]
    },
    {
      "cell_type": "code",
      "execution_count": null,
      "metadata": {
        "id": "O-K_5nu6H7Z8"
      },
      "outputs": [],
      "source": [
        "model.evaluate(X_test,y_test)"
      ]
    },
    {
      "cell_type": "code",
      "execution_count": null,
      "metadata": {
        "id": "P2YQzh5p-QO1"
      },
      "outputs": [],
      "source": [
        "preds = model.predict(X_test).argmax(1)"
      ]
    },
    {
      "cell_type": "code",
      "execution_count": null,
      "metadata": {
        "id": "7TaNQ_GnH7Z9"
      },
      "outputs": [],
      "source": [
        "Y_test = y_test.argmax(1)   "
      ]
    },
    {
      "cell_type": "code",
      "execution_count": null,
      "metadata": {
        "id": "NlLb2jMuH7Z9"
      },
      "outputs": [],
      "source": [
        "from sklearn.metrics import accuracy_score\n",
        "\n",
        "print(\"Accuracy Score = \", accuracy_score(Y_test, preds))"
      ]
    },
    {
      "cell_type": "markdown",
      "metadata": {
        "id": "sQ2zrGmpH7Z9"
      },
      "source": [
        "Evaluation"
      ]
    },
    {
      "cell_type": "code",
      "execution_count": null,
      "metadata": {
        "id": "TGBX0jR6H7Z9"
      },
      "outputs": [],
      "source": [
        "def print_confusion_matrix(confusion_matrix, class_names, figsize = (8,8),\n",
        "                           fontsize=14, normalize=True):\n",
        "     \n",
        "    if normalize:\n",
        "        confusion_matrix = confusion_matrix.astype('float') / confusion_matrix.sum(axis=1)[:, np.newaxis]\n",
        "        fmt = '.2f'\n",
        "    else:\n",
        "        fmt = 'd'\n",
        "\n",
        "    df_cm = pd.DataFrame(\n",
        "        confusion_matrix, index=class_names, columns=class_names,\n",
        "    )\n",
        "    fig = plt.figure(figsize=figsize)\n",
        "    try:\n",
        "        heatmap = sns.heatmap(df_cm, annot=True, fmt= fmt)\n",
        "    except ValueError:\n",
        "        raise ValueError(\"Confusion matrix values must be integers.\")\n",
        "    heatmap.yaxis.set_ticklabels(heatmap.yaxis.get_ticklabels(), rotation=0, ha='right', fontsize=fontsize)\n",
        "    heatmap.xaxis.set_ticklabels(heatmap.xaxis.get_ticklabels(), rotation=45, ha='right', fontsize=fontsize)\n",
        "    plt.ylabel('True label')\n",
        "    plt.xlabel('Predicted label')"
      ]
    },
    {
      "cell_type": "code",
      "execution_count": null,
      "metadata": {
        "id": "HUUcyICKI5TI"
      },
      "outputs": [],
      "source": [
        "from sklearn.metrics import ConfusionMatrixDisplay, confusion_matrix\n",
        "cm = confusion_matrix(Y_test, preds)\n",
        "\n",
        "cm"
      ]
    },
    {
      "cell_type": "code",
      "execution_count": null,
      "metadata": {
        "id": "rwl54pJsJQ8D"
      },
      "outputs": [],
      "source": [
        "import seaborn as sns\n",
        "\n",
        "class_names = ['Not Writing','Writing']\n",
        "print_confusion_matrix(cm, class_names)\n",
        "plt.savefig('Confusion_Matrix_LSTM(x,y).png', dpi=300)"
      ]
    },
    {
      "cell_type": "code",
      "execution_count": null,
      "metadata": {
        "id": "kGTuAaCZ2U2g"
      },
      "outputs": [],
      "source": [
        "report = classification_report(Y_test, preds,target_names=['Not_Writng', 'Writng'])\n",
        "print(report)"
      ]
    },
    {
      "cell_type": "code",
      "execution_count": null,
      "metadata": {
        "id": "5mqTRAbJH7Z-"
      },
      "outputs": [],
      "source": [
        "from collections import Counter\n",
        "\n",
        "\n",
        "correct = [pred == true for pred, true in zip(preds, Y_test)]\n",
        "correct = np.array(correct).flatten()\n",
        "print(Counter(correct))"
      ]
    },
    {
      "cell_type": "code",
      "execution_count": null,
      "metadata": {
        "id": "yuM5SmFIH7Z_"
      },
      "outputs": [],
      "source": [
        "YY = np.array(Y_test).flatten()\n",
        "classifiedIndexes = np.where(YY==preds)[0]\n",
        "misclassifiedIndexes = np.where(YY!=preds)[0]"
      ]
    },
    {
      "cell_type": "code",
      "execution_count": null,
      "metadata": {
        "id": "sy-6LEQUH7Z_"
      },
      "outputs": [],
      "source": [
        "A = 2343\n",
        "P = preds[A]\n",
        "Y = Y_test[A]\n",
        "\n",
        "Y"
      ]
    },
    {
      "cell_type": "code",
      "execution_count": null,
      "metadata": {
        "id": "4S0br-jBH7Z_"
      },
      "outputs": [],
      "source": [
        "P"
      ]
    },
    {
      "cell_type": "code",
      "execution_count": null,
      "metadata": {
        "id": "OHrEUen9H7Z_"
      },
      "outputs": [],
      "source": [
        "x_test = np.reshape(X_test,(3627,2,98))\n",
        "X = x_test\n",
        "XX = X[A]"
      ]
    },
    {
      "cell_type": "code",
      "execution_count": null,
      "metadata": {
        "id": "o_QclXVnH7aA"
      },
      "outputs": [],
      "source": [
        "import matplotlib.pyplot as plt\n",
        "\n",
        "x = XX[0]\n",
        "y = XX[1]\n",
        "\n",
        "plt.plot(x, y)\n",
        "plt.title('X Y Co-ordinates')\n",
        "plt.savefig(\"MC6.png\")\n",
        "\n",
        "plt.show()"
      ]
    },
    {
      "cell_type": "code",
      "execution_count": null,
      "metadata": {
        "id": "BSobCnkBH7aA"
      },
      "outputs": [],
      "source": []
    },
    {
      "cell_type": "code",
      "execution_count": null,
      "metadata": {
        "id": "KgSYYNB5H7aA"
      },
      "outputs": [],
      "source": []
    }
  ],
  "metadata": {
    "colab": {
      "provenance": [],
      "toc_visible": true
    },
    "kernelspec": {
      "display_name": "Python 3",
      "language": "python",
      "name": "python3"
    },
    "language_info": {
      "codemirror_mode": {
        "name": "ipython",
        "version": 3
      },
      "file_extension": ".py",
      "mimetype": "text/x-python",
      "name": "python",
      "nbconvert_exporter": "python",
      "pygments_lexer": "ipython3",
      "version": "3.8.5"
    }
  },
  "nbformat": 4,
  "nbformat_minor": 0
}


