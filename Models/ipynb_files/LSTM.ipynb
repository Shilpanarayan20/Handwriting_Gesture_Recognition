{
 "cells": [
  {
   "cell_type": "code",
   "execution_count": 1,
   "metadata": {
    "id": "yJ8PCOkNcdh-"
   },
   "outputs": [],
   "source": [
    "import numpy as np\n",
    "import matplotlib.pyplot as plt\n",
    "from keras.models import Sequential\n",
    "from keras.layers import Dense\n",
    "from keras.layers import LSTM\n",
    "from keras.layers import Dropout\n",
    "from keras.layers import Conv1D\n",
    "from keras.layers import Input\n",
    "from keras.layers import MaxPooling1D\n",
    "from keras import Model\n",
    "from sklearn.model_selection import train_test_split\n",
    "from sklearn.metrics import classification_report, confusion_matrix\n",
    "import pandas as pd\n",
    "import tensorflow as tf\n",
    "import seaborn as sns"
   ]
  },
  {
   "cell_type": "markdown",
   "metadata": {},
   "source": [
    "Data_Loading"
   ]
  },
  {
   "cell_type": "code",
   "execution_count": 11,
   "metadata": {},
   "outputs": [],
   "source": [
    "\n",
    "\n",
    "#X = np.load(\"Prepared/Not_Writng_Not/Feature_N_W.npy\",allow_pickle=True)\n",
    "#Y = np.load(\"Prepared/Not_Writng_Not/Feature_N_W_Y.npy\",allow_pickle=True)\n",
    "\n",
    "#X_train, X_test, y_train , y_test  = train_test_split(X, Y, test_size = 0.30, random_state = 150, shuffle=True)\n",
    "\n",
    "X_train = np.load(\"X_Train.npy\",allow_pickle=True)\n",
    "X_test = np.load(\"X_Test.npy\",allow_pickle=True)\n",
    "y_train = np.load(\"Y_Train.npy\",allow_pickle=True)\n",
    "y_test = np.load(\"Y_Test.npy\",allow_pickle=True)\n",
    "\n",
    "X_train = np.asarray(X_train).astype('float32')\n",
    "X_test = np.asarray(X_test).astype('float32')\n",
    "\n"
   ]
  },
  {
   "cell_type": "code",
   "execution_count": 19,
   "metadata": {},
   "outputs": [],
   "source": [
    "#y_train = tf.keras.utils.to_categorical(y_train)\n",
    "y_test = tf.keras.utils.to_categorical(y_test)\n",
    "\n",
    "#y_train = np.asarray(y_train).astype('float32')\n",
    "y_test = np.asarray(y_test).astype('float32')"
   ]
  },
  {
   "cell_type": "code",
   "execution_count": 20,
   "metadata": {},
   "outputs": [
    {
     "data": {
      "text/plain": [
       "(3627, 2)"
      ]
     },
     "execution_count": 20,
     "metadata": {},
     "output_type": "execute_result"
    }
   ],
   "source": [
    "y_test.shape"
   ]
  },
  {
   "cell_type": "markdown",
   "metadata": {},
   "source": [
    "Model"
   ]
  },
  {
   "cell_type": "code",
   "execution_count": 13,
   "metadata": {
    "id": "mps5Wtdrvqzb"
   },
   "outputs": [],
   "source": [
    "model = Sequential()\n",
    "\n",
    "model.add(LSTM(100,return_sequences=True, input_shape=(2,98)))\n",
    "model.add(LSTM(100,return_sequences=True))\n",
    "model.add(LSTM(150,return_sequences=True))\n",
    "model.add(LSTM(200))\n",
    "model.add(Dropout(0.3))\n",
    "model.add(Dense(units = 2, activation='softmax'))\n"
   ]
  },
  {
   "cell_type": "code",
   "execution_count": 14,
   "metadata": {
    "id": "JGTdnh9DwmX_"
   },
   "outputs": [],
   "source": [
    "model.compile(loss='binary_crossentropy', optimizer=tf.keras.optimizers.Adam(learning_rate=0.001), metrics=['accuracy'])"
   ]
  },
  {
   "cell_type": "markdown",
   "metadata": {},
   "source": [
    "Training"
   ]
  },
  {
   "cell_type": "code",
   "execution_count": 15,
   "metadata": {
    "colab": {
     "base_uri": "https://localhost:8080/"
    },
    "id": "p7mEtAU0w9M3",
    "outputId": "ef5d7ba7-1f3e-4887-bcba-e77888888e00"
   },
   "outputs": [
    {
     "name": "stdout",
     "output_type": "stream",
     "text": [
      "Epoch 1/75\n",
      "133/133 [==============================] - 10s 17ms/step - loss: 0.5729 - accuracy: 0.7017\n",
      "Epoch 2/75\n",
      "133/133 [==============================] - 2s 15ms/step - loss: 0.3541 - accuracy: 0.8345\n",
      "Epoch 3/75\n",
      "133/133 [==============================] - 2s 17ms/step - loss: 0.2791 - accuracy: 0.8828\n",
      "Epoch 4/75\n",
      "133/133 [==============================] - 3s 20ms/step - loss: 0.2363 - accuracy: 0.9024\n",
      "Epoch 5/75\n",
      "133/133 [==============================] - 3s 22ms/step - loss: 0.2286 - accuracy: 0.9098\n",
      "Epoch 6/75\n",
      "133/133 [==============================] - 3s 23ms/step - loss: 0.2080 - accuracy: 0.9136\n",
      "Epoch 7/75\n",
      "133/133 [==============================] - 3s 23ms/step - loss: 0.2038 - accuracy: 0.9169\n",
      "Epoch 8/75\n",
      "133/133 [==============================] - 3s 22ms/step - loss: 0.2021 - accuracy: 0.9178\n",
      "Epoch 9/75\n",
      "133/133 [==============================] - 3s 23ms/step - loss: 0.1848 - accuracy: 0.9201\n",
      "Epoch 10/75\n",
      "133/133 [==============================] - 3s 25ms/step - loss: 0.1780 - accuracy: 0.9269\n",
      "Epoch 11/75\n",
      "133/133 [==============================] - 3s 24ms/step - loss: 0.1742 - accuracy: 0.9277\n",
      "Epoch 12/75\n",
      "133/133 [==============================] - 3s 22ms/step - loss: 0.1758 - accuracy: 0.9316\n",
      "Epoch 13/75\n",
      "133/133 [==============================] - 4s 27ms/step - loss: 0.1618 - accuracy: 0.9373\n",
      "Epoch 14/75\n",
      "133/133 [==============================] - 4s 29ms/step - loss: 0.1433 - accuracy: 0.9444\n",
      "Epoch 15/75\n",
      "133/133 [==============================] - 4s 29ms/step - loss: 0.1375 - accuracy: 0.9495\n",
      "Epoch 16/75\n",
      "133/133 [==============================] - 4s 31ms/step - loss: 0.1441 - accuracy: 0.9492\n",
      "Epoch 17/75\n",
      "133/133 [==============================] - 4s 28ms/step - loss: 0.1408 - accuracy: 0.9466\n",
      "Epoch 18/75\n",
      "133/133 [==============================] - 4s 28ms/step - loss: 0.1335 - accuracy: 0.9509\n",
      "Epoch 19/75\n",
      "133/133 [==============================] - 4s 33ms/step - loss: 0.1229 - accuracy: 0.9546\n",
      "Epoch 20/75\n",
      "133/133 [==============================] - 4s 32ms/step - loss: 0.1242 - accuracy: 0.9530\n",
      "Epoch 21/75\n",
      "133/133 [==============================] - 4s 32ms/step - loss: 0.1216 - accuracy: 0.9539\n",
      "Epoch 22/75\n",
      "133/133 [==============================] - 4s 31ms/step - loss: 0.1093 - accuracy: 0.9577\n",
      "Epoch 23/75\n",
      "133/133 [==============================] - 5s 36ms/step - loss: 0.0981 - accuracy: 0.9624\n",
      "Epoch 24/75\n",
      "133/133 [==============================] - 5s 36ms/step - loss: 0.1007 - accuracy: 0.9652\n",
      "Epoch 25/75\n",
      "133/133 [==============================] - 4s 32ms/step - loss: 0.0992 - accuracy: 0.9624\n",
      "Epoch 26/75\n",
      "133/133 [==============================] - 5s 40ms/step - loss: 0.1018 - accuracy: 0.9625\n",
      "Epoch 27/75\n",
      "133/133 [==============================] - 5s 35ms/step - loss: 0.0898 - accuracy: 0.9710\n",
      "Epoch 28/75\n",
      "133/133 [==============================] - 5s 35ms/step - loss: 0.0821 - accuracy: 0.9698\n",
      "Epoch 29/75\n",
      "133/133 [==============================] - 5s 34ms/step - loss: 0.0837 - accuracy: 0.9698\n",
      "Epoch 30/75\n",
      "133/133 [==============================] - 5s 36ms/step - loss: 0.0721 - accuracy: 0.9752\n",
      "Epoch 31/75\n",
      "133/133 [==============================] - 5s 36ms/step - loss: 0.0824 - accuracy: 0.9683\n",
      "Epoch 32/75\n",
      "133/133 [==============================] - 4s 32ms/step - loss: 0.0745 - accuracy: 0.9704\n",
      "Epoch 33/75\n",
      "133/133 [==============================] - 4s 31ms/step - loss: 0.0766 - accuracy: 0.9672\n",
      "Epoch 34/75\n",
      "133/133 [==============================] - 4s 33ms/step - loss: 0.0662 - accuracy: 0.9744\n",
      "Epoch 35/75\n",
      "133/133 [==============================] - 5s 35ms/step - loss: 0.0614 - accuracy: 0.9748\n",
      "Epoch 36/75\n",
      "133/133 [==============================] - 5s 35ms/step - loss: 0.0633 - accuracy: 0.9743\n",
      "Epoch 37/75\n",
      "133/133 [==============================] - 4s 32ms/step - loss: 0.0698 - accuracy: 0.9727\n",
      "Epoch 38/75\n",
      "133/133 [==============================] - 4s 27ms/step - loss: 0.0613 - accuracy: 0.9760\n",
      "Epoch 39/75\n",
      "133/133 [==============================] - 4s 27ms/step - loss: 0.0556 - accuracy: 0.9798\n",
      "Epoch 40/75\n",
      "133/133 [==============================] - 4s 33ms/step - loss: 0.0590 - accuracy: 0.9782\n",
      "Epoch 41/75\n",
      "133/133 [==============================] - 4s 28ms/step - loss: 0.0588 - accuracy: 0.9778\n",
      "Epoch 42/75\n",
      "133/133 [==============================] - 4s 30ms/step - loss: 0.0556 - accuracy: 0.9821\n",
      "Epoch 43/75\n",
      "133/133 [==============================] - 4s 30ms/step - loss: 0.0521 - accuracy: 0.9809\n",
      "Epoch 44/75\n",
      "133/133 [==============================] - 4s 29ms/step - loss: 0.0464 - accuracy: 0.9829\n",
      "Epoch 45/75\n",
      "133/133 [==============================] - 4s 32ms/step - loss: 0.0543 - accuracy: 0.9794\n",
      "Epoch 46/75\n",
      "133/133 [==============================] - 4s 29ms/step - loss: 0.0473 - accuracy: 0.9820\n",
      "Epoch 47/75\n",
      "133/133 [==============================] - 4s 32ms/step - loss: 0.0459 - accuracy: 0.9831\n",
      "Epoch 48/75\n",
      "133/133 [==============================] - 4s 30ms/step - loss: 0.0377 - accuracy: 0.9838\n",
      "Epoch 49/75\n",
      "133/133 [==============================] - 4s 31ms/step - loss: 0.0538 - accuracy: 0.9801\n",
      "Epoch 50/75\n",
      "133/133 [==============================] - 4s 32ms/step - loss: 0.0350 - accuracy: 0.9877\n",
      "Epoch 51/75\n",
      "133/133 [==============================] - 4s 29ms/step - loss: 0.0351 - accuracy: 0.9860\n",
      "Epoch 52/75\n",
      "133/133 [==============================] - 4s 27ms/step - loss: 0.0544 - accuracy: 0.9805\n",
      "Epoch 53/75\n",
      "133/133 [==============================] - 4s 30ms/step - loss: 0.0282 - accuracy: 0.9885\n",
      "Epoch 54/75\n",
      "133/133 [==============================] - 4s 31ms/step - loss: 0.0348 - accuracy: 0.9864\n",
      "Epoch 55/75\n",
      "133/133 [==============================] - 4s 28ms/step - loss: 0.0384 - accuracy: 0.9852\n",
      "Epoch 56/75\n",
      "133/133 [==============================] - 4s 30ms/step - loss: 0.0392 - accuracy: 0.9847\n",
      "Epoch 57/75\n",
      "133/133 [==============================] - 4s 32ms/step - loss: 0.0359 - accuracy: 0.9882\n",
      "Epoch 58/75\n",
      "133/133 [==============================] - 4s 32ms/step - loss: 0.0341 - accuracy: 0.9879\n",
      "Epoch 59/75\n",
      "133/133 [==============================] - 4s 32ms/step - loss: 0.0349 - accuracy: 0.9872\n",
      "Epoch 60/75\n",
      "133/133 [==============================] - 4s 32ms/step - loss: 0.0306 - accuracy: 0.9890\n",
      "Epoch 61/75\n",
      "133/133 [==============================] - 4s 27ms/step - loss: 0.0436 - accuracy: 0.9844\n",
      "Epoch 62/75\n",
      "133/133 [==============================] - 3s 25ms/step - loss: 0.0253 - accuracy: 0.9912\n",
      "Epoch 63/75\n",
      "133/133 [==============================] - 3s 25ms/step - loss: 0.0272 - accuracy: 0.9895\n",
      "Epoch 64/75\n",
      "133/133 [==============================] - 4s 27ms/step - loss: 0.0305 - accuracy: 0.9875\n",
      "Epoch 65/75\n",
      "133/133 [==============================] - 4s 27ms/step - loss: 0.0278 - accuracy: 0.9890\n",
      "Epoch 66/75\n",
      "133/133 [==============================] - 4s 26ms/step - loss: 0.0224 - accuracy: 0.9925\n",
      "Epoch 67/75\n",
      "133/133 [==============================] - 4s 28ms/step - loss: 0.0251 - accuracy: 0.9901\n",
      "Epoch 68/75\n",
      "133/133 [==============================] - 3s 24ms/step - loss: 0.0182 - accuracy: 0.9931\n",
      "Epoch 69/75\n",
      "133/133 [==============================] - 3s 22ms/step - loss: 0.0192 - accuracy: 0.9923\n",
      "Epoch 70/75\n",
      "133/133 [==============================] - 3s 23ms/step - loss: 0.0466 - accuracy: 0.9835\n",
      "Epoch 71/75\n",
      "133/133 [==============================] - 3s 24ms/step - loss: 0.0191 - accuracy: 0.9918\n",
      "Epoch 72/75\n",
      "133/133 [==============================] - 3s 25ms/step - loss: 0.0180 - accuracy: 0.9939\n",
      "Epoch 73/75\n",
      "133/133 [==============================] - 3s 22ms/step - loss: 0.0166 - accuracy: 0.9934\n",
      "Epoch 74/75\n",
      "133/133 [==============================] - 3s 22ms/step - loss: 0.0307 - accuracy: 0.9902\n",
      "Epoch 75/75\n",
      "133/133 [==============================] - 3s 22ms/step - loss: 0.0226 - accuracy: 0.9904\n"
     ]
    }
   ],
   "source": [
    "history = model.fit(X_train, y_train,epochs=75, batch_size=64)"
   ]
  },
  {
   "cell_type": "markdown",
   "metadata": {},
   "source": [
    "Testing"
   ]
  },
  {
   "cell_type": "code",
   "execution_count": 21,
   "metadata": {},
   "outputs": [
    {
     "name": "stdout",
     "output_type": "stream",
     "text": [
      "114/114 [==============================] - 1s 3ms/step - loss: 0.4673 - accuracy: 0.9140\n"
     ]
    },
    {
     "data": {
      "text/plain": [
       "[0.4673093259334564, 0.9139785170555115]"
      ]
     },
     "execution_count": 21,
     "metadata": {},
     "output_type": "execute_result"
    }
   ],
   "source": [
    "model.evaluate(X_test,y_test)"
   ]
  },
  {
   "cell_type": "code",
   "execution_count": 22,
   "metadata": {
    "id": "P2YQzh5p-QO1"
   },
   "outputs": [],
   "source": [
    "preds = model.predict(X_test).argmax(1)"
   ]
  },
  {
   "cell_type": "code",
   "execution_count": 23,
   "metadata": {},
   "outputs": [],
   "source": [
    "Y_test = y_test.argmax(1)   "
   ]
  },
  {
   "cell_type": "code",
   "execution_count": 24,
   "metadata": {},
   "outputs": [
    {
     "name": "stdout",
     "output_type": "stream",
     "text": [
      "Accuracy Score =  0.9139784946236559\n"
     ]
    }
   ],
   "source": [
    "from sklearn.metrics import accuracy_score\n",
    "\n",
    "print(\"Accuracy Score = \", accuracy_score(Y_test, preds))"
   ]
  },
  {
   "cell_type": "markdown",
   "metadata": {},
   "source": [
    "Evaluation"
   ]
  },
  {
   "cell_type": "code",
   "execution_count": 25,
   "metadata": {},
   "outputs": [],
   "source": [
    "def print_confusion_matrix(confusion_matrix, class_names, figsize = (8,8),\n",
    "                           fontsize=14, normalize=True):\n",
    "     \n",
    "    if normalize:\n",
    "        confusion_matrix = confusion_matrix.astype('float') / confusion_matrix.sum(axis=1)[:, np.newaxis]\n",
    "        fmt = '.2f'\n",
    "    else:\n",
    "        fmt = 'd'\n",
    "\n",
    "    df_cm = pd.DataFrame(\n",
    "        confusion_matrix, index=class_names, columns=class_names,\n",
    "    )\n",
    "    fig = plt.figure(figsize=figsize)\n",
    "    try:\n",
    "        heatmap = sns.heatmap(df_cm, annot=True, fmt= fmt)\n",
    "    except ValueError:\n",
    "        raise ValueError(\"Confusion matrix values must be integers.\")\n",
    "    heatmap.yaxis.set_ticklabels(heatmap.yaxis.get_ticklabels(), rotation=0, ha='right', fontsize=fontsize)\n",
    "    heatmap.xaxis.set_ticklabels(heatmap.xaxis.get_ticklabels(), rotation=45, ha='right', fontsize=fontsize)\n",
    "    plt.ylabel('True label')\n",
    "    plt.xlabel('Predicted label')"
   ]
  },
  {
   "cell_type": "code",
   "execution_count": 26,
   "metadata": {
    "id": "HUUcyICKI5TI"
   },
   "outputs": [
    {
     "data": {
      "text/plain": [
       "array([[2253,  171],\n",
       "       [ 141, 1062]])"
      ]
     },
     "execution_count": 26,
     "metadata": {},
     "output_type": "execute_result"
    }
   ],
   "source": [
    "from sklearn.metrics import ConfusionMatrixDisplay, confusion_matrix\n",
    "cm = confusion_matrix(Y_test, preds)\n",
    "\n",
    "cm"
   ]
  },
  {
   "cell_type": "code",
   "execution_count": 27,
   "metadata": {
    "id": "rwl54pJsJQ8D"
   },
   "outputs": [
    {
     "data": {
      "image/png": "[encoded data removed]",
      "text/plain": [
       "<Figure size 576x576 with 2 Axes>"
      ]
     },
     "metadata": {
      "needs_background": "light"
     },
     "output_type": "display_data"
    }
   ],
   "source": [
    "import seaborn as sns\n",
    "\n",
    "class_names = ['Not Writing','Writing']\n",
    "print_confusion_matrix(cm, class_names)\n",
    "plt.savefig('Confusion_Matrix_LSTM(x,y).png', dpi=300)"
   ]
  },
  {
   "cell_type": "code",
   "execution_count": 28,
   "metadata": {
    "colab": {
     "base_uri": "https://localhost:8080/"
    },
    "id": "kGTuAaCZ2U2g",
    "outputId": "01607e00-e906-4830-f7b5-faeefd96c36a"
   },
   "outputs": [
    {
     "name": "stdout",
     "output_type": "stream",
     "text": [
      "              precision    recall  f1-score   support\n",
      "\n",
      "  Not_Writng       0.94      0.93      0.94      2424\n",
      "      Writng       0.86      0.88      0.87      1203\n",
      "\n",
      "    accuracy                           0.91      3627\n",
      "   macro avg       0.90      0.91      0.90      3627\n",
      "weighted avg       0.91      0.91      0.91      3627\n",
      "\n"
     ]
    }
   ],
   "source": [
    "report = classification_report(Y_test, preds,target_names=['Not_Writng', 'Writng'])\n",
    "print(report)"
   ]
  },
  {
   "cell_type": "code",
   "execution_count": 29,
   "metadata": {},
   "outputs": [
    {
     "name": "stdout",
     "output_type": "stream",
     "text": [
      "Counter({True: 3315, False: 312})\n"
     ]
    }
   ],
   "source": [
    "from collections import Counter\n",
    "\n",
    "\n",
    "correct = [pred == true for pred, true in zip(preds, Y_test)]\n",
    "correct = np.array(correct).flatten()\n",
    "print(Counter(correct))"
   ]
  },
  {
   "cell_type": "code",
   "execution_count": 39,
   "metadata": {},
   "outputs": [],
   "source": [
    "YY = np.array(Y_test).flatten()\n",
    "classifiedIndexes = np.where(YY==preds)[0]\n",
    "misclassifiedIndexes = np.where(YY!=preds)[0]"
   ]
  },
  {
   "cell_type": "code",
   "execution_count": 33,
   "metadata": {},
   "outputs": [
    {
     "data": {
      "text/plain": [
       "1"
      ]
     },
     "execution_count": 33,
     "metadata": {},
     "output_type": "execute_result"
    }
   ],
   "source": [
    "A = 2343\n",
    "P = preds[A]\n",
    "Y = Y_test[A]\n",
    "\n",
    "Y"
   ]
  },
  {
   "cell_type": "code",
   "execution_count": 34,
   "metadata": {},
   "outputs": [
    {
     "data": {
      "text/plain": [
       "1"
      ]
     },
     "execution_count": 34,
     "metadata": {},
     "output_type": "execute_result"
    }
   ],
   "source": [
    "P"
   ]
  },
  {
   "cell_type": "code",
   "execution_count": 37,
   "metadata": {},
   "outputs": [],
   "source": [
    "x_test = np.reshape(X_test,(3627,2,98))\n",
    "X = x_test\n",
    "XX = X[A]"
   ]
  },
  {
   "cell_type": "code",
   "execution_count": 38,
   "metadata": {},
   "outputs": [
    {
     "data": {
      "image/png": "[encoded data removed]",
      "text/plain": [
       "<Figure size 432x288 with 1 Axes>"
      ]
     },
     "metadata": {
      "needs_background": "light"
     },
     "output_type": "display_data"
    }
   ],
   "source": [
    "import matplotlib.pyplot as plt\n",
    "\n",
    "x = XX[0]\n",
    "y = XX[1]\n",
    "\n",
    "plt.plot(x, y)\n",
    "plt.title('X Y Co-ordinates')\n",
    "plt.savefig(\"MC6.png\")\n",
    "\n",
    "plt.show()"
   ]
  },
  {
   "cell_type": "code",
   "execution_count": null,
   "metadata": {},
   "outputs": [],
   "source": []
  },
  {
   "cell_type": "code",
   "execution_count": null,
   "metadata": {},
   "outputs": [],
   "source": []
  }
 ],
 "metadata": {
  "colab": {
   "name": "convLSTM.ipynb",
   "provenance": [],
   "toc_visible": true
  },
  "kernelspec": {
   "display_name": "Python 3",
   "language": "python",
   "name": "python3"
  },
  "language_info": {
   "codemirror_mode": {
    "name": "ipython",
    "version": 3
   },
   "file_extension": ".py",
   "mimetype": "text/x-python",
   "name": "python",
   "nbconvert_exporter": "python",
   "pygments_lexer": "ipython3",
   "version": "3.8.5"
  }
 },
 "nbformat": 4,
 "nbformat_minor": 1
}
